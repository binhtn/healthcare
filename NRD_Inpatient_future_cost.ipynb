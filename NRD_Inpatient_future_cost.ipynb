{
 "cells": [
  {
   "cell_type": "markdown",
   "metadata": {},
   "source": [
    "#### PREDICT HEALTH CARE COST FOR PATIENTS IN HOSPITAL\n",
    "- Use the National Readmission Database"
   ]
  },
  {
   "cell_type": "code",
   "execution_count": null,
   "metadata": {
    "collapsed": true
   },
   "outputs": [],
   "source": [
    "import os\n",
    "import pandas as pd\n",
    "from pandas import DataFrame as df\n",
    "import numpy as np\n",
    "from sklearn.linear_model import LinearRegression, Lasso, LogisticRegression\n",
    "from sklearn.preprocessing import Imputer , OneHotEncoder, LabelEncoder\n",
    "from sklearn.metrics import recall_score, precision_score, average_precision_score, roc_auc_score\n",
    "from sklearn import cross_validation\n",
    "from sklearn.cross_validation import train_test_split\n",
    "from sklearn import metrics\n",
    "from scipy.stats import sem\n",
    "\n",
    "%matplotlib inline\n",
    "import matplotlib\n",
    "import matplotlib.pyplot as plt\n",
    "\n",
    "\n",
    "os.chdir('C:/Users/binh/Dropbox (CareSkore)/Customer_data/MEPS_expenditure prediction')"
   ]
  },
  {
   "cell_type": "code",
   "execution_count": 2,
   "metadata": {
    "collapsed": true
   },
   "outputs": [],
   "source": [
    "# import NRD - newer file with 50% sample\n",
    "nrd_big = pd.read_stata('C:/Users/binh/Dropbox (CareSkore)/Research Data/NRD_final/NRD_2013_v4.dta')"
   ]
  },
  {
   "cell_type": "code",
   "execution_count": 3,
   "metadata": {
    "collapsed": false
   },
   "outputs": [
    {
     "name": "stderr",
     "output_type": "stream",
     "text": [
      "C:\\Users\\binh\\Anaconda3\\lib\\site-packages\\numpy\\lib\\function_base.py:4116: RuntimeWarning: Invalid value encountered in percentile\n",
      "  interpolation=interpolation)\n"
     ]
    },
    {
     "data": {
      "text/plain": [
       "count    1.432104e+07\n",
       "mean     2.154027e-02\n",
       "std      1.451767e-01\n",
       "min      0.000000e+00\n",
       "25%               NaN\n",
       "50%               NaN\n",
       "75%               NaN\n",
       "max      1.000000e+00\n",
       "Name: died, dtype: float64"
      ]
     },
     "execution_count": 3,
     "metadata": {},
     "output_type": "execute_result"
    }
   ],
   "source": [
    "nrd_big.shape\n",
    "nrd_big['died'].describe()"
   ]
  },
  {
   "cell_type": "code",
   "execution_count": 4,
   "metadata": {
    "collapsed": true
   },
   "outputs": [],
   "source": [
    "# remove death patients\n",
    "nrd_big = nrd_big[nrd_big['died']==0]"
   ]
  },
  {
   "cell_type": "code",
   "execution_count": 5,
   "metadata": {
    "collapsed": false
   },
   "outputs": [
    {
     "data": {
      "text/plain": [
       "count    14012559.0\n",
       "mean            0.0\n",
       "std             0.0\n",
       "min             0.0\n",
       "25%             0.0\n",
       "50%             0.0\n",
       "75%             0.0\n",
       "max             0.0\n",
       "Name: died, dtype: float64"
      ]
     },
     "execution_count": 5,
     "metadata": {},
     "output_type": "execute_result"
    }
   ],
   "source": [
    "nrd_big['died'].describe()"
   ]
  },
  {
   "cell_type": "code",
   "execution_count": 6,
   "metadata": {
    "collapsed": true
   },
   "outputs": [],
   "source": [
    "## preliminary data cleaning    \n",
    "\n",
    "## age group -- we can use age as a continuous variable but we put it into age dummies for easy interpretation. \n",
    "nrd_big['age_50'] = nrd_big['age'].apply(lambda x : +1 if x<50 else 0)\n",
    "nrd_big['age_64'] = nrd_big['age'].apply(lambda x : +1 if x<65  and x>49 else 0)\n",
    "nrd_big['age_74'] = nrd_big['age'].apply(lambda x : +1 if x<75  and x>64 else 0)\n",
    "nrd_big['age_75'] = nrd_big['age'].apply(lambda x : +1 if x>74 else 0)\n",
    "\n",
    "\n",
    "##household income\n",
    "nrd_big['poor'] = nrd_big['zipinc_qrtl'].apply(lambda x : +1 if x==1 else 0)\n",
    "nrd_big['middle'] = nrd_big['zipinc_qrtl'].apply(lambda x : +1 if x==2 or  x==3  else 0)  \n",
    "nrd_big['rich'] = nrd_big['zipinc_qrtl'].apply(lambda x : +1 if x== 4 else 0)  \n",
    "\n",
    "\n",
    "# health insurance\n",
    "nrd_big['medicare'] = nrd_big['pay1'].apply(lambda x : +1 if x==1 else 0)\n",
    "nrd_big['medicaid'] = nrd_big['pay1'].apply(lambda x : +1 if x==2 else 0)  \n",
    "nrd_big['private'] = nrd_big['pay1'].apply(lambda x : +1 if x== 3 else 0)  \n",
    "nrd_big['selfpay'] = nrd_big['pay1'].apply(lambda x : +1 if x== 4 else 0)  \n",
    "nrd_big['nocharge'] = nrd_big['pay1'].apply(lambda x : +1 if x== 5 else 0)  \n",
    "\n",
    "nrd_big['ad_emergency'] = nrd_big['hcup_ed'].apply(lambda x : +1 if x==1 or x==2 or x==3 or x==4 else 0)  \n",
    "nrd_big['encounter_winter'] = nrd_big['dqtr'].apply(lambda x : +1 if x==1 or x==4 else 0)  \n",
    "\n",
    "\n",
    "nrd_big['chron_0'] = nrd_big['nchronic'].apply(lambda x : +1 if x==0 else 0)\n",
    "nrd_big['chron_3'] = nrd_big['nchronic'].apply(lambda x : +1 if x>0 and x<4 else 0)  \n",
    "nrd_big['chron_6'] = nrd_big['nchronic'].apply(lambda x : +1 if x>3 and x<7 else 0)  \n",
    "nrd_big['chron_10'] = nrd_big['nchronic'].apply(lambda x : +1 if x>6  else 0)  \n",
    "\n",
    "\n",
    "nrd_big['los_2w'] = nrd_big['los'].apply(lambda x : +1 if x<14 else 0)\n",
    "nrd_big['los_4w'] = nrd_big['los'].apply(lambda x : +1 if x<29  and x>13 else 0)\n",
    "nrd_big['los_6w'] = nrd_big['los'].apply(lambda x : +1 if x>28 else 0)\n",
    "\n",
    "\n",
    "nrd_big['ndx_3'] = nrd_big['ndx'].apply(lambda x : +1 if x<4 else 0)\n",
    "nrd_big['ndx_7'] = nrd_big['ndx'].apply(lambda x : +1 if x<11  and x>3 else 0)\n",
    "nrd_big['ndx_11'] = nrd_big['ndx'].apply(lambda x : +1 if x>10 else 0)\n"
   ]
  },
  {
   "cell_type": "code",
   "execution_count": 7,
   "metadata": {
    "collapsed": false
   },
   "outputs": [
    {
     "data": {
      "text/plain": [
       "Index(['aprdrg', 'aprdrg_risk_mortality', 'aprdrg_severity', 'cm_aids',\n",
       "       'cm_alcohol', 'cm_anemdef', 'cm_arth', 'cm_bldloss', 'cm_chf',\n",
       "       'cm_chrnlung',\n",
       "       ...\n",
       "       'chron_0', 'chron_3', 'chron_6', 'chron_10', 'los_2w', 'los_4w',\n",
       "       'los_6w', 'ndx_3', 'ndx_7', 'ndx_11'],\n",
       "      dtype='object', length=121)"
      ]
     },
     "execution_count": 7,
     "metadata": {},
     "output_type": "execute_result"
    }
   ],
   "source": [
    "nrd_big.columns"
   ]
  },
  {
   "cell_type": "markdown",
   "metadata": {},
   "source": [
    "#### Note: calculate number of inpatient visits\n",
    "- the hard part is to undertand which encounter should we look at when calculating total number of inpatient visits. \n",
    "Should  we look at the last encounter? Should we look at rolling numbers?\n",
    "- different ways to look at number of inpatient visits. The first is to consider all data point and look at thenumber of cummulative inpatient vivits. The second is to look at only the maximum number of vivsits"
   ]
  },
  {
   "cell_type": "code",
   "execution_count": 9,
   "metadata": {
    "collapsed": false
   },
   "outputs": [
    {
     "data": {
      "text/plain": [
       "count    1.401256e+07\n",
       "mean     1.507992e+00\n",
       "std      1.202753e+00\n",
       "min      1.000000e+00\n",
       "25%      1.000000e+00\n",
       "50%      1.000000e+00\n",
       "75%      2.000000e+00\n",
       "max      1.900000e+01\n",
       "Name: inpa_cumsum, dtype: float64"
      ]
     },
     "execution_count": 9,
     "metadata": {},
     "output_type": "execute_result"
    }
   ],
   "source": [
    "nrd_big['inpa_cumsum'].describe()"
   ]
  },
  {
   "cell_type": "code",
   "execution_count": null,
   "metadata": {
    "collapsed": true
   },
   "outputs": [],
   "source": []
  },
  {
   "cell_type": "code",
   "execution_count": 10,
   "metadata": {
    "collapsed": true
   },
   "outputs": [],
   "source": [
    "nrd = nrd_big[[\"age_50\", \"age_64\", \"age_74\", \"female\", \n",
    "            \"los_2w\", \"los_4w\", \"los_6w\", \"hcup_ed\", \"aweekend\", \"resident\",\n",
    "            \"medicare\", \"medicaid\", \"private\",\n",
    "            \"ndx_3\", \"ndx_7\", \"ndx_11\", \"orproc\", \"ad_emergency\", \"elective\", \n",
    "            \"middle\", \"rich\", \n",
    "            \"cm_aids\", \"cm_alcohol\", \"cm_anemdef\", \"cm_arth\", \"cm_bldloss\", \"cm_chf\", \"cm_chrnlung\", \"cm_coag\", \n",
    "            \"cm_depress\", \"cm_dm\", \"cm_dmcx\", \"cm_drug\", \"cm_htn_c\", \"cm_hypothy\", \"cm_liver\", \"cm_lymph\", \n",
    "            \"cm_lytes\", \"cm_mets\", \"cm_neuro\", \"cm_obese\", \"cm_para\", \"cm_perivasc\", \"cm_psych\", \"cm_pulmcirc\", \n",
    "            \"cm_renlfail\", \"cm_tumor\", \"cm_ulcer\", \"cm_valve\", \"cm_wghtloss\", \"los\",\n",
    "            \"age\", \"admission_30\",\"new_30_admission\", \"inpa_cumsum\", \"totchg\", \"nrd_visitlink\", \"nrd_daystoevent\"]] "
   ]
  },
  {
   "cell_type": "code",
   "execution_count": 11,
   "metadata": {
    "collapsed": true
   },
   "outputs": [],
   "source": [
    "### sort by patient id and time\n",
    "nrd = nrd.sort_values(by=[\"nrd_visitlink\",\"nrd_daystoevent\"], ascending=True)"
   ]
  },
  {
   "cell_type": "markdown",
   "metadata": {},
   "source": [
    "## criteria for keeping rows\n",
    "- only inpatient visits (thus lead_totchg==0)\n",
    "- Have both leads and lags (not the lattest inpatient admission"
   ]
  },
  {
   "cell_type": "code",
   "execution_count": 15,
   "metadata": {
    "collapsed": true
   },
   "outputs": [],
   "source": [
    "## predict future cost based on current information\n",
    "nrd['lead_totchg'] = nrd.groupby(['nrd_visitlink'])['totchg'].shift(-1)\n",
    "nrd['lag_totchg'] = nrd.groupby(['nrd_visitlink'])['totchg'].shift(1)"
   ]
  },
  {
   "cell_type": "code",
   "execution_count": 16,
   "metadata": {
    "collapsed": false
   },
   "outputs": [
    {
     "data": {
      "text/html": [
       "<div>\n",
       "<table border=\"1\" class=\"dataframe\">\n",
       "  <thead>\n",
       "    <tr style=\"text-align: right;\">\n",
       "      <th></th>\n",
       "      <th>age_50</th>\n",
       "      <th>age_64</th>\n",
       "      <th>age_74</th>\n",
       "      <th>female</th>\n",
       "      <th>los_2w</th>\n",
       "      <th>los_4w</th>\n",
       "      <th>los_6w</th>\n",
       "      <th>hcup_ed</th>\n",
       "      <th>aweekend</th>\n",
       "      <th>resident</th>\n",
       "      <th>...</th>\n",
       "      <th>los</th>\n",
       "      <th>age</th>\n",
       "      <th>admission_30</th>\n",
       "      <th>new_30_admission</th>\n",
       "      <th>inpa_cumsum</th>\n",
       "      <th>totchg</th>\n",
       "      <th>nrd_visitlink</th>\n",
       "      <th>nrd_daystoevent</th>\n",
       "      <th>lead_totchg</th>\n",
       "      <th>lag_totchg</th>\n",
       "    </tr>\n",
       "  </thead>\n",
       "  <tbody>\n",
       "    <tr>\n",
       "      <th>0</th>\n",
       "      <td>1</td>\n",
       "      <td>0</td>\n",
       "      <td>0</td>\n",
       "      <td>1</td>\n",
       "      <td>1</td>\n",
       "      <td>0</td>\n",
       "      <td>0</td>\n",
       "      <td>1</td>\n",
       "      <td>1.0</td>\n",
       "      <td>1</td>\n",
       "      <td>...</td>\n",
       "      <td>0.0</td>\n",
       "      <td>16</td>\n",
       "      <td>0.0</td>\n",
       "      <td>0.0</td>\n",
       "      <td>1</td>\n",
       "      <td>22139.0</td>\n",
       "      <td>000029</td>\n",
       "      <td>17609.0</td>\n",
       "      <td>NaN</td>\n",
       "      <td>NaN</td>\n",
       "    </tr>\n",
       "    <tr>\n",
       "      <th>1</th>\n",
       "      <td>0</td>\n",
       "      <td>1</td>\n",
       "      <td>0</td>\n",
       "      <td>1</td>\n",
       "      <td>1</td>\n",
       "      <td>0</td>\n",
       "      <td>0</td>\n",
       "      <td>1</td>\n",
       "      <td>1.0</td>\n",
       "      <td>1</td>\n",
       "      <td>...</td>\n",
       "      <td>4.0</td>\n",
       "      <td>62</td>\n",
       "      <td>0.0</td>\n",
       "      <td>0.0</td>\n",
       "      <td>1</td>\n",
       "      <td>29832.0</td>\n",
       "      <td>00008o</td>\n",
       "      <td>15782.0</td>\n",
       "      <td>16208.0</td>\n",
       "      <td>NaN</td>\n",
       "    </tr>\n",
       "    <tr>\n",
       "      <th>2</th>\n",
       "      <td>0</td>\n",
       "      <td>1</td>\n",
       "      <td>0</td>\n",
       "      <td>1</td>\n",
       "      <td>1</td>\n",
       "      <td>0</td>\n",
       "      <td>0</td>\n",
       "      <td>1</td>\n",
       "      <td>0.0</td>\n",
       "      <td>1</td>\n",
       "      <td>...</td>\n",
       "      <td>1.0</td>\n",
       "      <td>62</td>\n",
       "      <td>0.0</td>\n",
       "      <td>0.0</td>\n",
       "      <td>2</td>\n",
       "      <td>16208.0</td>\n",
       "      <td>00008o</td>\n",
       "      <td>15828.0</td>\n",
       "      <td>NaN</td>\n",
       "      <td>29832.0</td>\n",
       "    </tr>\n",
       "    <tr>\n",
       "      <th>3</th>\n",
       "      <td>0</td>\n",
       "      <td>1</td>\n",
       "      <td>0</td>\n",
       "      <td>0</td>\n",
       "      <td>1</td>\n",
       "      <td>0</td>\n",
       "      <td>0</td>\n",
       "      <td>1</td>\n",
       "      <td>0.0</td>\n",
       "      <td>1</td>\n",
       "      <td>...</td>\n",
       "      <td>1.0</td>\n",
       "      <td>56</td>\n",
       "      <td>0.0</td>\n",
       "      <td>1.0</td>\n",
       "      <td>1</td>\n",
       "      <td>17193.0</td>\n",
       "      <td>00009m</td>\n",
       "      <td>14265.0</td>\n",
       "      <td>32248.0</td>\n",
       "      <td>NaN</td>\n",
       "    </tr>\n",
       "    <tr>\n",
       "      <th>4</th>\n",
       "      <td>0</td>\n",
       "      <td>1</td>\n",
       "      <td>0</td>\n",
       "      <td>0</td>\n",
       "      <td>1</td>\n",
       "      <td>0</td>\n",
       "      <td>0</td>\n",
       "      <td>1</td>\n",
       "      <td>0.0</td>\n",
       "      <td>1</td>\n",
       "      <td>...</td>\n",
       "      <td>1.0</td>\n",
       "      <td>56</td>\n",
       "      <td>1.0</td>\n",
       "      <td>0.0</td>\n",
       "      <td>2</td>\n",
       "      <td>32248.0</td>\n",
       "      <td>00009m</td>\n",
       "      <td>14287.0</td>\n",
       "      <td>NaN</td>\n",
       "      <td>17193.0</td>\n",
       "    </tr>\n",
       "    <tr>\n",
       "      <th>5</th>\n",
       "      <td>1</td>\n",
       "      <td>0</td>\n",
       "      <td>0</td>\n",
       "      <td>0</td>\n",
       "      <td>1</td>\n",
       "      <td>0</td>\n",
       "      <td>0</td>\n",
       "      <td>4</td>\n",
       "      <td>0.0</td>\n",
       "      <td>1</td>\n",
       "      <td>...</td>\n",
       "      <td>4.0</td>\n",
       "      <td>38</td>\n",
       "      <td>0.0</td>\n",
       "      <td>0.0</td>\n",
       "      <td>1</td>\n",
       "      <td>36962.0</td>\n",
       "      <td>0000et</td>\n",
       "      <td>15664.0</td>\n",
       "      <td>NaN</td>\n",
       "      <td>NaN</td>\n",
       "    </tr>\n",
       "    <tr>\n",
       "      <th>6</th>\n",
       "      <td>0</td>\n",
       "      <td>0</td>\n",
       "      <td>1</td>\n",
       "      <td>1</td>\n",
       "      <td>1</td>\n",
       "      <td>0</td>\n",
       "      <td>0</td>\n",
       "      <td>1</td>\n",
       "      <td>1.0</td>\n",
       "      <td>1</td>\n",
       "      <td>...</td>\n",
       "      <td>5.0</td>\n",
       "      <td>74</td>\n",
       "      <td>0.0</td>\n",
       "      <td>1.0</td>\n",
       "      <td>1</td>\n",
       "      <td>44727.0</td>\n",
       "      <td>0000tb</td>\n",
       "      <td>19796.0</td>\n",
       "      <td>71881.0</td>\n",
       "      <td>NaN</td>\n",
       "    </tr>\n",
       "    <tr>\n",
       "      <th>7</th>\n",
       "      <td>0</td>\n",
       "      <td>0</td>\n",
       "      <td>1</td>\n",
       "      <td>1</td>\n",
       "      <td>1</td>\n",
       "      <td>0</td>\n",
       "      <td>0</td>\n",
       "      <td>1</td>\n",
       "      <td>1.0</td>\n",
       "      <td>1</td>\n",
       "      <td>...</td>\n",
       "      <td>11.0</td>\n",
       "      <td>74</td>\n",
       "      <td>1.0</td>\n",
       "      <td>0.0</td>\n",
       "      <td>2</td>\n",
       "      <td>71881.0</td>\n",
       "      <td>0000tb</td>\n",
       "      <td>19825.0</td>\n",
       "      <td>38771.0</td>\n",
       "      <td>44727.0</td>\n",
       "    </tr>\n",
       "    <tr>\n",
       "      <th>8</th>\n",
       "      <td>0</td>\n",
       "      <td>0</td>\n",
       "      <td>1</td>\n",
       "      <td>1</td>\n",
       "      <td>1</td>\n",
       "      <td>0</td>\n",
       "      <td>0</td>\n",
       "      <td>1</td>\n",
       "      <td>0.0</td>\n",
       "      <td>1</td>\n",
       "      <td>...</td>\n",
       "      <td>7.0</td>\n",
       "      <td>74</td>\n",
       "      <td>0.0</td>\n",
       "      <td>0.0</td>\n",
       "      <td>3</td>\n",
       "      <td>38771.0</td>\n",
       "      <td>0000tb</td>\n",
       "      <td>19889.0</td>\n",
       "      <td>NaN</td>\n",
       "      <td>71881.0</td>\n",
       "    </tr>\n",
       "    <tr>\n",
       "      <th>9</th>\n",
       "      <td>0</td>\n",
       "      <td>0</td>\n",
       "      <td>1</td>\n",
       "      <td>1</td>\n",
       "      <td>1</td>\n",
       "      <td>0</td>\n",
       "      <td>0</td>\n",
       "      <td>0</td>\n",
       "      <td>0.0</td>\n",
       "      <td>1</td>\n",
       "      <td>...</td>\n",
       "      <td>3.0</td>\n",
       "      <td>69</td>\n",
       "      <td>0.0</td>\n",
       "      <td>0.0</td>\n",
       "      <td>1</td>\n",
       "      <td>28895.0</td>\n",
       "      <td>0000vq</td>\n",
       "      <td>11726.0</td>\n",
       "      <td>NaN</td>\n",
       "      <td>NaN</td>\n",
       "    </tr>\n",
       "  </tbody>\n",
       "</table>\n",
       "<p>10 rows × 60 columns</p>\n",
       "</div>"
      ],
      "text/plain": [
       "   age_50  age_64  age_74  female  los_2w  los_4w  los_6w  hcup_ed  aweekend  \\\n",
       "0       1       0       0       1       1       0       0        1       1.0   \n",
       "1       0       1       0       1       1       0       0        1       1.0   \n",
       "2       0       1       0       1       1       0       0        1       0.0   \n",
       "3       0       1       0       0       1       0       0        1       0.0   \n",
       "4       0       1       0       0       1       0       0        1       0.0   \n",
       "5       1       0       0       0       1       0       0        4       0.0   \n",
       "6       0       0       1       1       1       0       0        1       1.0   \n",
       "7       0       0       1       1       1       0       0        1       1.0   \n",
       "8       0       0       1       1       1       0       0        1       0.0   \n",
       "9       0       0       1       1       1       0       0        0       0.0   \n",
       "\n",
       "   resident     ...       los  age  admission_30  new_30_admission  \\\n",
       "0         1     ...       0.0   16           0.0               0.0   \n",
       "1         1     ...       4.0   62           0.0               0.0   \n",
       "2         1     ...       1.0   62           0.0               0.0   \n",
       "3         1     ...       1.0   56           0.0               1.0   \n",
       "4         1     ...       1.0   56           1.0               0.0   \n",
       "5         1     ...       4.0   38           0.0               0.0   \n",
       "6         1     ...       5.0   74           0.0               1.0   \n",
       "7         1     ...      11.0   74           1.0               0.0   \n",
       "8         1     ...       7.0   74           0.0               0.0   \n",
       "9         1     ...       3.0   69           0.0               0.0   \n",
       "\n",
       "   inpa_cumsum   totchg  nrd_visitlink  nrd_daystoevent  lead_totchg  \\\n",
       "0            1  22139.0         000029          17609.0          NaN   \n",
       "1            1  29832.0         00008o          15782.0      16208.0   \n",
       "2            2  16208.0         00008o          15828.0          NaN   \n",
       "3            1  17193.0         00009m          14265.0      32248.0   \n",
       "4            2  32248.0         00009m          14287.0          NaN   \n",
       "5            1  36962.0         0000et          15664.0          NaN   \n",
       "6            1  44727.0         0000tb          19796.0      71881.0   \n",
       "7            2  71881.0         0000tb          19825.0      38771.0   \n",
       "8            3  38771.0         0000tb          19889.0          NaN   \n",
       "9            1  28895.0         0000vq          11726.0          NaN   \n",
       "\n",
       "   lag_totchg  \n",
       "0         NaN  \n",
       "1         NaN  \n",
       "2     29832.0  \n",
       "3         NaN  \n",
       "4     17193.0  \n",
       "5         NaN  \n",
       "6         NaN  \n",
       "7     44727.0  \n",
       "8     71881.0  \n",
       "9         NaN  \n",
       "\n",
       "[10 rows x 60 columns]"
      ]
     },
     "execution_count": 16,
     "metadata": {},
     "output_type": "execute_result"
    }
   ],
   "source": [
    "nrd.head(10)"
   ]
  },
  {
   "cell_type": "code",
   "execution_count": 17,
   "metadata": {
    "collapsed": false
   },
   "outputs": [
    {
     "name": "stdout",
     "output_type": "stream",
     "text": [
      "shape nrd_small1: (10336202, 60)\n",
      "shape nrd: (14012559, 60)\n"
     ]
    },
    {
     "data": {
      "text/html": [
       "<div>\n",
       "<table border=\"1\" class=\"dataframe\">\n",
       "  <thead>\n",
       "    <tr style=\"text-align: right;\">\n",
       "      <th></th>\n",
       "      <th>age_50</th>\n",
       "      <th>age_64</th>\n",
       "      <th>age_74</th>\n",
       "      <th>female</th>\n",
       "      <th>los_2w</th>\n",
       "      <th>los_4w</th>\n",
       "      <th>los_6w</th>\n",
       "      <th>hcup_ed</th>\n",
       "      <th>aweekend</th>\n",
       "      <th>resident</th>\n",
       "      <th>...</th>\n",
       "      <th>los</th>\n",
       "      <th>age</th>\n",
       "      <th>admission_30</th>\n",
       "      <th>new_30_admission</th>\n",
       "      <th>inpa_cumsum</th>\n",
       "      <th>totchg</th>\n",
       "      <th>nrd_visitlink</th>\n",
       "      <th>nrd_daystoevent</th>\n",
       "      <th>lead_totchg</th>\n",
       "      <th>lag_totchg</th>\n",
       "    </tr>\n",
       "  </thead>\n",
       "  <tbody>\n",
       "    <tr>\n",
       "      <th>0</th>\n",
       "      <td>1</td>\n",
       "      <td>0</td>\n",
       "      <td>0</td>\n",
       "      <td>1</td>\n",
       "      <td>1</td>\n",
       "      <td>0</td>\n",
       "      <td>0</td>\n",
       "      <td>1</td>\n",
       "      <td>1.0</td>\n",
       "      <td>1</td>\n",
       "      <td>...</td>\n",
       "      <td>0.0</td>\n",
       "      <td>16</td>\n",
       "      <td>0.0</td>\n",
       "      <td>0.0</td>\n",
       "      <td>1</td>\n",
       "      <td>22139.0</td>\n",
       "      <td>000029</td>\n",
       "      <td>17609.0</td>\n",
       "      <td>0.0</td>\n",
       "      <td>0.0</td>\n",
       "    </tr>\n",
       "    <tr>\n",
       "      <th>1</th>\n",
       "      <td>0</td>\n",
       "      <td>1</td>\n",
       "      <td>0</td>\n",
       "      <td>1</td>\n",
       "      <td>1</td>\n",
       "      <td>0</td>\n",
       "      <td>0</td>\n",
       "      <td>1</td>\n",
       "      <td>1.0</td>\n",
       "      <td>1</td>\n",
       "      <td>...</td>\n",
       "      <td>4.0</td>\n",
       "      <td>62</td>\n",
       "      <td>0.0</td>\n",
       "      <td>0.0</td>\n",
       "      <td>1</td>\n",
       "      <td>29832.0</td>\n",
       "      <td>00008o</td>\n",
       "      <td>15782.0</td>\n",
       "      <td>16208.0</td>\n",
       "      <td>0.0</td>\n",
       "    </tr>\n",
       "    <tr>\n",
       "      <th>3</th>\n",
       "      <td>0</td>\n",
       "      <td>1</td>\n",
       "      <td>0</td>\n",
       "      <td>0</td>\n",
       "      <td>1</td>\n",
       "      <td>0</td>\n",
       "      <td>0</td>\n",
       "      <td>1</td>\n",
       "      <td>0.0</td>\n",
       "      <td>1</td>\n",
       "      <td>...</td>\n",
       "      <td>1.0</td>\n",
       "      <td>56</td>\n",
       "      <td>0.0</td>\n",
       "      <td>1.0</td>\n",
       "      <td>1</td>\n",
       "      <td>17193.0</td>\n",
       "      <td>00009m</td>\n",
       "      <td>14265.0</td>\n",
       "      <td>32248.0</td>\n",
       "      <td>0.0</td>\n",
       "    </tr>\n",
       "    <tr>\n",
       "      <th>5</th>\n",
       "      <td>1</td>\n",
       "      <td>0</td>\n",
       "      <td>0</td>\n",
       "      <td>0</td>\n",
       "      <td>1</td>\n",
       "      <td>0</td>\n",
       "      <td>0</td>\n",
       "      <td>4</td>\n",
       "      <td>0.0</td>\n",
       "      <td>1</td>\n",
       "      <td>...</td>\n",
       "      <td>4.0</td>\n",
       "      <td>38</td>\n",
       "      <td>0.0</td>\n",
       "      <td>0.0</td>\n",
       "      <td>1</td>\n",
       "      <td>36962.0</td>\n",
       "      <td>0000et</td>\n",
       "      <td>15664.0</td>\n",
       "      <td>0.0</td>\n",
       "      <td>0.0</td>\n",
       "    </tr>\n",
       "  </tbody>\n",
       "</table>\n",
       "<p>4 rows × 60 columns</p>\n",
       "</div>"
      ],
      "text/plain": [
       "   age_50  age_64  age_74  female  los_2w  los_4w  los_6w  hcup_ed  aweekend  \\\n",
       "0       1       0       0       1       1       0       0        1       1.0   \n",
       "1       0       1       0       1       1       0       0        1       1.0   \n",
       "3       0       1       0       0       1       0       0        1       0.0   \n",
       "5       1       0       0       0       1       0       0        4       0.0   \n",
       "\n",
       "   resident     ...      los  age  admission_30  new_30_admission  \\\n",
       "0         1     ...      0.0   16           0.0               0.0   \n",
       "1         1     ...      4.0   62           0.0               0.0   \n",
       "3         1     ...      1.0   56           0.0               1.0   \n",
       "5         1     ...      4.0   38           0.0               0.0   \n",
       "\n",
       "   inpa_cumsum   totchg  nrd_visitlink  nrd_daystoevent  lead_totchg  \\\n",
       "0            1  22139.0         000029          17609.0          0.0   \n",
       "1            1  29832.0         00008o          15782.0      16208.0   \n",
       "3            1  17193.0         00009m          14265.0      32248.0   \n",
       "5            1  36962.0         0000et          15664.0          0.0   \n",
       "\n",
       "   lag_totchg  \n",
       "0         0.0  \n",
       "1         0.0  \n",
       "3         0.0  \n",
       "5         0.0  \n",
       "\n",
       "[4 rows x 60 columns]"
      ]
     },
     "execution_count": 17,
     "metadata": {},
     "output_type": "execute_result"
    }
   ],
   "source": [
    "## step 1: keep only patients with first cumsum inpatient visit \n",
    "nrd_small1 = nrd.loc[(nrd['inpa_cumsum']==1)]\n",
    "nrd_small1 = nrd_small1.fillna(0)\n",
    "print('shape nrd_small1: {}'.format(nrd_small1.shape))\n",
    "print('shape nrd: {}'.format(nrd.shape))\n",
    "\n",
    "nrd_small1.head(4)"
   ]
  },
  {
   "cell_type": "code",
   "execution_count": 18,
   "metadata": {
    "collapsed": false
   },
   "outputs": [
    {
     "name": "stdout",
     "output_type": "stream",
     "text": [
      "shape: (1510977, 60)\n"
     ]
    },
    {
     "data": {
      "text/html": [
       "<div>\n",
       "<table border=\"1\" class=\"dataframe\">\n",
       "  <thead>\n",
       "    <tr style=\"text-align: right;\">\n",
       "      <th></th>\n",
       "      <th>age_50</th>\n",
       "      <th>age_64</th>\n",
       "      <th>age_74</th>\n",
       "      <th>female</th>\n",
       "      <th>los_2w</th>\n",
       "      <th>los_4w</th>\n",
       "      <th>los_6w</th>\n",
       "      <th>hcup_ed</th>\n",
       "      <th>aweekend</th>\n",
       "      <th>resident</th>\n",
       "      <th>...</th>\n",
       "      <th>los</th>\n",
       "      <th>age</th>\n",
       "      <th>admission_30</th>\n",
       "      <th>new_30_admission</th>\n",
       "      <th>inpa_cumsum</th>\n",
       "      <th>totchg</th>\n",
       "      <th>nrd_visitlink</th>\n",
       "      <th>nrd_daystoevent</th>\n",
       "      <th>lead_totchg</th>\n",
       "      <th>lag_totchg</th>\n",
       "    </tr>\n",
       "  </thead>\n",
       "  <tbody>\n",
       "    <tr>\n",
       "      <th>7</th>\n",
       "      <td>0</td>\n",
       "      <td>0</td>\n",
       "      <td>1</td>\n",
       "      <td>1</td>\n",
       "      <td>1</td>\n",
       "      <td>0</td>\n",
       "      <td>0</td>\n",
       "      <td>1</td>\n",
       "      <td>1.0</td>\n",
       "      <td>1</td>\n",
       "      <td>...</td>\n",
       "      <td>11.0</td>\n",
       "      <td>74</td>\n",
       "      <td>1.0</td>\n",
       "      <td>0.0</td>\n",
       "      <td>2</td>\n",
       "      <td>71881.0</td>\n",
       "      <td>0000tb</td>\n",
       "      <td>19825.0</td>\n",
       "      <td>38771.0</td>\n",
       "      <td>44727.0</td>\n",
       "    </tr>\n",
       "    <tr>\n",
       "      <th>12</th>\n",
       "      <td>0</td>\n",
       "      <td>0</td>\n",
       "      <td>0</td>\n",
       "      <td>0</td>\n",
       "      <td>1</td>\n",
       "      <td>0</td>\n",
       "      <td>0</td>\n",
       "      <td>1</td>\n",
       "      <td>1.0</td>\n",
       "      <td>1</td>\n",
       "      <td>...</td>\n",
       "      <td>3.0</td>\n",
       "      <td>89</td>\n",
       "      <td>0.0</td>\n",
       "      <td>0.0</td>\n",
       "      <td>2</td>\n",
       "      <td>31312.0</td>\n",
       "      <td>00017u</td>\n",
       "      <td>14159.0</td>\n",
       "      <td>107132.0</td>\n",
       "      <td>27504.0</td>\n",
       "    </tr>\n",
       "    <tr>\n",
       "      <th>24</th>\n",
       "      <td>0</td>\n",
       "      <td>0</td>\n",
       "      <td>0</td>\n",
       "      <td>1</td>\n",
       "      <td>1</td>\n",
       "      <td>0</td>\n",
       "      <td>0</td>\n",
       "      <td>0</td>\n",
       "      <td>0.0</td>\n",
       "      <td>1</td>\n",
       "      <td>...</td>\n",
       "      <td>7.0</td>\n",
       "      <td>78</td>\n",
       "      <td>0.0</td>\n",
       "      <td>0.0</td>\n",
       "      <td>2</td>\n",
       "      <td>41304.0</td>\n",
       "      <td>0002ki</td>\n",
       "      <td>20736.0</td>\n",
       "      <td>20568.0</td>\n",
       "      <td>54239.0</td>\n",
       "    </tr>\n",
       "    <tr>\n",
       "      <th>94</th>\n",
       "      <td>0</td>\n",
       "      <td>0</td>\n",
       "      <td>1</td>\n",
       "      <td>1</td>\n",
       "      <td>1</td>\n",
       "      <td>0</td>\n",
       "      <td>0</td>\n",
       "      <td>1</td>\n",
       "      <td>1.0</td>\n",
       "      <td>1</td>\n",
       "      <td>...</td>\n",
       "      <td>11.0</td>\n",
       "      <td>72</td>\n",
       "      <td>0.0</td>\n",
       "      <td>1.0</td>\n",
       "      <td>2</td>\n",
       "      <td>107096.0</td>\n",
       "      <td>000aga</td>\n",
       "      <td>19610.0</td>\n",
       "      <td>54664.0</td>\n",
       "      <td>115081.0</td>\n",
       "    </tr>\n",
       "    <tr>\n",
       "      <th>95</th>\n",
       "      <td>0</td>\n",
       "      <td>0</td>\n",
       "      <td>1</td>\n",
       "      <td>1</td>\n",
       "      <td>1</td>\n",
       "      <td>0</td>\n",
       "      <td>0</td>\n",
       "      <td>1</td>\n",
       "      <td>0.0</td>\n",
       "      <td>1</td>\n",
       "      <td>...</td>\n",
       "      <td>7.0</td>\n",
       "      <td>73</td>\n",
       "      <td>1.0</td>\n",
       "      <td>1.0</td>\n",
       "      <td>3</td>\n",
       "      <td>54664.0</td>\n",
       "      <td>000aga</td>\n",
       "      <td>19639.0</td>\n",
       "      <td>48132.0</td>\n",
       "      <td>107096.0</td>\n",
       "    </tr>\n",
       "  </tbody>\n",
       "</table>\n",
       "<p>5 rows × 60 columns</p>\n",
       "</div>"
      ],
      "text/plain": [
       "    age_50  age_64  age_74  female  los_2w  los_4w  los_6w  hcup_ed  aweekend  \\\n",
       "7        0       0       1       1       1       0       0        1       1.0   \n",
       "12       0       0       0       0       1       0       0        1       1.0   \n",
       "24       0       0       0       1       1       0       0        0       0.0   \n",
       "94       0       0       1       1       1       0       0        1       1.0   \n",
       "95       0       0       1       1       1       0       0        1       0.0   \n",
       "\n",
       "    resident     ...       los  age  admission_30  new_30_admission  \\\n",
       "7          1     ...      11.0   74           1.0               0.0   \n",
       "12         1     ...       3.0   89           0.0               0.0   \n",
       "24         1     ...       7.0   78           0.0               0.0   \n",
       "94         1     ...      11.0   72           0.0               1.0   \n",
       "95         1     ...       7.0   73           1.0               1.0   \n",
       "\n",
       "    inpa_cumsum    totchg  nrd_visitlink  nrd_daystoevent  lead_totchg  \\\n",
       "7             2   71881.0         0000tb          19825.0      38771.0   \n",
       "12            2   31312.0         00017u          14159.0     107132.0   \n",
       "24            2   41304.0         0002ki          20736.0      20568.0   \n",
       "94            2  107096.0         000aga          19610.0      54664.0   \n",
       "95            3   54664.0         000aga          19639.0      48132.0   \n",
       "\n",
       "    lag_totchg  \n",
       "7      44727.0  \n",
       "12     27504.0  \n",
       "24     54239.0  \n",
       "94    115081.0  \n",
       "95    107096.0  \n",
       "\n",
       "[5 rows x 60 columns]"
      ]
     },
     "execution_count": 18,
     "metadata": {},
     "output_type": "execute_result"
    }
   ],
   "source": [
    "## step 2: keep those with both leads and lags\n",
    "nrd_small2 = nrd[np.isfinite(nrd['lead_totchg'])& np.isfinite(nrd['lag_totchg'])]\n",
    "print('shape: {}'.format(nrd_small2.shape))\n",
    "nrd_small2.head(5)"
   ]
  },
  {
   "cell_type": "code",
   "execution_count": 19,
   "metadata": {
    "collapsed": false
   },
   "outputs": [
    {
     "name": "stdout",
     "output_type": "stream",
     "text": [
      "shape: (11847179, 60)\n"
     ]
    }
   ],
   "source": [
    "nrd_new = nrd_small1.append(nrd_small2)\n",
    "print('shape: {}'.format(nrd_new.shape))"
   ]
  },
  {
   "cell_type": "code",
   "execution_count": 20,
   "metadata": {
    "collapsed": false
   },
   "outputs": [
    {
     "data": {
      "text/html": [
       "<div>\n",
       "<table border=\"1\" class=\"dataframe\">\n",
       "  <thead>\n",
       "    <tr style=\"text-align: right;\">\n",
       "      <th></th>\n",
       "      <th>age_50</th>\n",
       "      <th>age_64</th>\n",
       "      <th>age_74</th>\n",
       "      <th>female</th>\n",
       "      <th>los_2w</th>\n",
       "      <th>los_4w</th>\n",
       "      <th>los_6w</th>\n",
       "      <th>hcup_ed</th>\n",
       "      <th>aweekend</th>\n",
       "      <th>resident</th>\n",
       "      <th>...</th>\n",
       "      <th>los</th>\n",
       "      <th>age</th>\n",
       "      <th>admission_30</th>\n",
       "      <th>new_30_admission</th>\n",
       "      <th>inpa_cumsum</th>\n",
       "      <th>totchg</th>\n",
       "      <th>nrd_visitlink</th>\n",
       "      <th>nrd_daystoevent</th>\n",
       "      <th>lead_totchg</th>\n",
       "      <th>lag_totchg</th>\n",
       "    </tr>\n",
       "  </thead>\n",
       "  <tbody>\n",
       "    <tr>\n",
       "      <th>0</th>\n",
       "      <td>1</td>\n",
       "      <td>0</td>\n",
       "      <td>0</td>\n",
       "      <td>1</td>\n",
       "      <td>1</td>\n",
       "      <td>0</td>\n",
       "      <td>0</td>\n",
       "      <td>1</td>\n",
       "      <td>1.0</td>\n",
       "      <td>1</td>\n",
       "      <td>...</td>\n",
       "      <td>0.0</td>\n",
       "      <td>16</td>\n",
       "      <td>0.0</td>\n",
       "      <td>0.0</td>\n",
       "      <td>1</td>\n",
       "      <td>22139.0</td>\n",
       "      <td>000029</td>\n",
       "      <td>17609.0</td>\n",
       "      <td>0.0</td>\n",
       "      <td>0.0</td>\n",
       "    </tr>\n",
       "    <tr>\n",
       "      <th>1</th>\n",
       "      <td>0</td>\n",
       "      <td>1</td>\n",
       "      <td>0</td>\n",
       "      <td>1</td>\n",
       "      <td>1</td>\n",
       "      <td>0</td>\n",
       "      <td>0</td>\n",
       "      <td>1</td>\n",
       "      <td>1.0</td>\n",
       "      <td>1</td>\n",
       "      <td>...</td>\n",
       "      <td>4.0</td>\n",
       "      <td>62</td>\n",
       "      <td>0.0</td>\n",
       "      <td>0.0</td>\n",
       "      <td>1</td>\n",
       "      <td>29832.0</td>\n",
       "      <td>00008o</td>\n",
       "      <td>15782.0</td>\n",
       "      <td>16208.0</td>\n",
       "      <td>0.0</td>\n",
       "    </tr>\n",
       "    <tr>\n",
       "      <th>3</th>\n",
       "      <td>0</td>\n",
       "      <td>1</td>\n",
       "      <td>0</td>\n",
       "      <td>0</td>\n",
       "      <td>1</td>\n",
       "      <td>0</td>\n",
       "      <td>0</td>\n",
       "      <td>1</td>\n",
       "      <td>0.0</td>\n",
       "      <td>1</td>\n",
       "      <td>...</td>\n",
       "      <td>1.0</td>\n",
       "      <td>56</td>\n",
       "      <td>0.0</td>\n",
       "      <td>1.0</td>\n",
       "      <td>1</td>\n",
       "      <td>17193.0</td>\n",
       "      <td>00009m</td>\n",
       "      <td>14265.0</td>\n",
       "      <td>32248.0</td>\n",
       "      <td>0.0</td>\n",
       "    </tr>\n",
       "    <tr>\n",
       "      <th>5</th>\n",
       "      <td>1</td>\n",
       "      <td>0</td>\n",
       "      <td>0</td>\n",
       "      <td>0</td>\n",
       "      <td>1</td>\n",
       "      <td>0</td>\n",
       "      <td>0</td>\n",
       "      <td>4</td>\n",
       "      <td>0.0</td>\n",
       "      <td>1</td>\n",
       "      <td>...</td>\n",
       "      <td>4.0</td>\n",
       "      <td>38</td>\n",
       "      <td>0.0</td>\n",
       "      <td>0.0</td>\n",
       "      <td>1</td>\n",
       "      <td>36962.0</td>\n",
       "      <td>0000et</td>\n",
       "      <td>15664.0</td>\n",
       "      <td>0.0</td>\n",
       "      <td>0.0</td>\n",
       "    </tr>\n",
       "    <tr>\n",
       "      <th>6</th>\n",
       "      <td>0</td>\n",
       "      <td>0</td>\n",
       "      <td>1</td>\n",
       "      <td>1</td>\n",
       "      <td>1</td>\n",
       "      <td>0</td>\n",
       "      <td>0</td>\n",
       "      <td>1</td>\n",
       "      <td>1.0</td>\n",
       "      <td>1</td>\n",
       "      <td>...</td>\n",
       "      <td>5.0</td>\n",
       "      <td>74</td>\n",
       "      <td>0.0</td>\n",
       "      <td>1.0</td>\n",
       "      <td>1</td>\n",
       "      <td>44727.0</td>\n",
       "      <td>0000tb</td>\n",
       "      <td>19796.0</td>\n",
       "      <td>71881.0</td>\n",
       "      <td>0.0</td>\n",
       "    </tr>\n",
       "    <tr>\n",
       "      <th>7</th>\n",
       "      <td>0</td>\n",
       "      <td>0</td>\n",
       "      <td>1</td>\n",
       "      <td>1</td>\n",
       "      <td>1</td>\n",
       "      <td>0</td>\n",
       "      <td>0</td>\n",
       "      <td>1</td>\n",
       "      <td>1.0</td>\n",
       "      <td>1</td>\n",
       "      <td>...</td>\n",
       "      <td>11.0</td>\n",
       "      <td>74</td>\n",
       "      <td>1.0</td>\n",
       "      <td>0.0</td>\n",
       "      <td>2</td>\n",
       "      <td>71881.0</td>\n",
       "      <td>0000tb</td>\n",
       "      <td>19825.0</td>\n",
       "      <td>38771.0</td>\n",
       "      <td>44727.0</td>\n",
       "    </tr>\n",
       "    <tr>\n",
       "      <th>9</th>\n",
       "      <td>0</td>\n",
       "      <td>0</td>\n",
       "      <td>1</td>\n",
       "      <td>1</td>\n",
       "      <td>1</td>\n",
       "      <td>0</td>\n",
       "      <td>0</td>\n",
       "      <td>0</td>\n",
       "      <td>0.0</td>\n",
       "      <td>1</td>\n",
       "      <td>...</td>\n",
       "      <td>3.0</td>\n",
       "      <td>69</td>\n",
       "      <td>0.0</td>\n",
       "      <td>0.0</td>\n",
       "      <td>1</td>\n",
       "      <td>28895.0</td>\n",
       "      <td>0000vq</td>\n",
       "      <td>11726.0</td>\n",
       "      <td>0.0</td>\n",
       "      <td>0.0</td>\n",
       "    </tr>\n",
       "    <tr>\n",
       "      <th>10</th>\n",
       "      <td>1</td>\n",
       "      <td>0</td>\n",
       "      <td>0</td>\n",
       "      <td>1</td>\n",
       "      <td>1</td>\n",
       "      <td>0</td>\n",
       "      <td>0</td>\n",
       "      <td>0</td>\n",
       "      <td>0.0</td>\n",
       "      <td>1</td>\n",
       "      <td>...</td>\n",
       "      <td>2.0</td>\n",
       "      <td>36</td>\n",
       "      <td>0.0</td>\n",
       "      <td>0.0</td>\n",
       "      <td>1</td>\n",
       "      <td>8264.0</td>\n",
       "      <td>0000z8</td>\n",
       "      <td>17196.0</td>\n",
       "      <td>0.0</td>\n",
       "      <td>0.0</td>\n",
       "    </tr>\n",
       "    <tr>\n",
       "      <th>11</th>\n",
       "      <td>0</td>\n",
       "      <td>0</td>\n",
       "      <td>0</td>\n",
       "      <td>0</td>\n",
       "      <td>1</td>\n",
       "      <td>0</td>\n",
       "      <td>0</td>\n",
       "      <td>1</td>\n",
       "      <td>1.0</td>\n",
       "      <td>0</td>\n",
       "      <td>...</td>\n",
       "      <td>4.0</td>\n",
       "      <td>89</td>\n",
       "      <td>0.0</td>\n",
       "      <td>0.0</td>\n",
       "      <td>1</td>\n",
       "      <td>27504.0</td>\n",
       "      <td>00017u</td>\n",
       "      <td>14068.0</td>\n",
       "      <td>31312.0</td>\n",
       "      <td>0.0</td>\n",
       "    </tr>\n",
       "    <tr>\n",
       "      <th>12</th>\n",
       "      <td>0</td>\n",
       "      <td>0</td>\n",
       "      <td>0</td>\n",
       "      <td>0</td>\n",
       "      <td>1</td>\n",
       "      <td>0</td>\n",
       "      <td>0</td>\n",
       "      <td>1</td>\n",
       "      <td>1.0</td>\n",
       "      <td>1</td>\n",
       "      <td>...</td>\n",
       "      <td>3.0</td>\n",
       "      <td>89</td>\n",
       "      <td>0.0</td>\n",
       "      <td>0.0</td>\n",
       "      <td>2</td>\n",
       "      <td>31312.0</td>\n",
       "      <td>00017u</td>\n",
       "      <td>14159.0</td>\n",
       "      <td>107132.0</td>\n",
       "      <td>27504.0</td>\n",
       "    </tr>\n",
       "  </tbody>\n",
       "</table>\n",
       "<p>10 rows × 60 columns</p>\n",
       "</div>"
      ],
      "text/plain": [
       "    age_50  age_64  age_74  female  los_2w  los_4w  los_6w  hcup_ed  aweekend  \\\n",
       "0        1       0       0       1       1       0       0        1       1.0   \n",
       "1        0       1       0       1       1       0       0        1       1.0   \n",
       "3        0       1       0       0       1       0       0        1       0.0   \n",
       "5        1       0       0       0       1       0       0        4       0.0   \n",
       "6        0       0       1       1       1       0       0        1       1.0   \n",
       "7        0       0       1       1       1       0       0        1       1.0   \n",
       "9        0       0       1       1       1       0       0        0       0.0   \n",
       "10       1       0       0       1       1       0       0        0       0.0   \n",
       "11       0       0       0       0       1       0       0        1       1.0   \n",
       "12       0       0       0       0       1       0       0        1       1.0   \n",
       "\n",
       "    resident     ...       los  age  admission_30  new_30_admission  \\\n",
       "0          1     ...       0.0   16           0.0               0.0   \n",
       "1          1     ...       4.0   62           0.0               0.0   \n",
       "3          1     ...       1.0   56           0.0               1.0   \n",
       "5          1     ...       4.0   38           0.0               0.0   \n",
       "6          1     ...       5.0   74           0.0               1.0   \n",
       "7          1     ...      11.0   74           1.0               0.0   \n",
       "9          1     ...       3.0   69           0.0               0.0   \n",
       "10         1     ...       2.0   36           0.0               0.0   \n",
       "11         0     ...       4.0   89           0.0               0.0   \n",
       "12         1     ...       3.0   89           0.0               0.0   \n",
       "\n",
       "    inpa_cumsum   totchg  nrd_visitlink  nrd_daystoevent  lead_totchg  \\\n",
       "0             1  22139.0         000029          17609.0          0.0   \n",
       "1             1  29832.0         00008o          15782.0      16208.0   \n",
       "3             1  17193.0         00009m          14265.0      32248.0   \n",
       "5             1  36962.0         0000et          15664.0          0.0   \n",
       "6             1  44727.0         0000tb          19796.0      71881.0   \n",
       "7             2  71881.0         0000tb          19825.0      38771.0   \n",
       "9             1  28895.0         0000vq          11726.0          0.0   \n",
       "10            1   8264.0         0000z8          17196.0          0.0   \n",
       "11            1  27504.0         00017u          14068.0      31312.0   \n",
       "12            2  31312.0         00017u          14159.0     107132.0   \n",
       "\n",
       "    lag_totchg  \n",
       "0          0.0  \n",
       "1          0.0  \n",
       "3          0.0  \n",
       "5          0.0  \n",
       "6          0.0  \n",
       "7      44727.0  \n",
       "9          0.0  \n",
       "10         0.0  \n",
       "11         0.0  \n",
       "12     27504.0  \n",
       "\n",
       "[10 rows x 60 columns]"
      ]
     },
     "execution_count": 20,
     "metadata": {},
     "output_type": "execute_result"
    }
   ],
   "source": [
    "nrd_new = nrd_new.sort_values(by=[\"nrd_visitlink\",\"nrd_daystoevent\"], ascending=True)\n",
    "nrd_new.head(10)"
   ]
  },
  {
   "cell_type": "code",
   "execution_count": 21,
   "metadata": {
    "collapsed": true
   },
   "outputs": [],
   "source": [
    "nrd_new.to_csv('nrd_new.csv')"
   ]
  },
  {
   "cell_type": "code",
   "execution_count": 24,
   "metadata": {
    "collapsed": true
   },
   "outputs": [],
   "source": [
    "## start here if you don't have time to run the whole thing\n",
    "nrd_new = pd.read_csv('C:/Users/binh/Dropbox (CareSkore)/Customer_data/MEPS_expenditure prediction/nrd_new.csv',sep=',', header=0 )"
   ]
  },
  {
   "cell_type": "markdown",
   "metadata": {},
   "source": [
    "### data cleaning"
   ]
  },
  {
   "cell_type": "code",
   "execution_count": 25,
   "metadata": {
    "collapsed": false
   },
   "outputs": [
    {
     "data": {
      "text/plain": [
       "Index(['Unnamed: 0', 'age_50', 'age_64', 'age_74', 'female', 'los_2w',\n",
       "       'los_4w', 'los_6w', 'hcup_ed', 'aweekend', 'resident', 'medicare',\n",
       "       'medicaid', 'private', 'ndx_3', 'ndx_7', 'ndx_11', 'orproc',\n",
       "       'ad_emergency', 'elective', 'middle', 'rich', 'cm_aids', 'cm_alcohol',\n",
       "       'cm_anemdef', 'cm_arth', 'cm_bldloss', 'cm_chf', 'cm_chrnlung',\n",
       "       'cm_coag', 'cm_depress', 'cm_dm', 'cm_dmcx', 'cm_drug', 'cm_htn_c',\n",
       "       'cm_hypothy', 'cm_liver', 'cm_lymph', 'cm_lytes', 'cm_mets', 'cm_neuro',\n",
       "       'cm_obese', 'cm_para', 'cm_perivasc', 'cm_psych', 'cm_pulmcirc',\n",
       "       'cm_renlfail', 'cm_tumor', 'cm_ulcer', 'cm_valve', 'cm_wghtloss', 'los',\n",
       "       'age', 'admission_30', 'new_30_admission', 'inpa_cumsum', 'totchg',\n",
       "       'nrd_visitlink', 'nrd_daystoevent', 'lead_totchg', 'lag_totchg'],\n",
       "      dtype='object')"
      ]
     },
     "execution_count": 25,
     "metadata": {},
     "output_type": "execute_result"
    }
   ],
   "source": [
    "nrd_new.columns"
   ]
  },
  {
   "cell_type": "code",
   "execution_count": 66,
   "metadata": {
    "collapsed": false
   },
   "outputs": [
    {
     "data": {
      "text/plain": [
       "count    1.184718e+07\n",
       "mean     1.463135e+04\n",
       "std      4.676003e+04\n",
       "min      0.000000e+00\n",
       "25%      0.000000e+00\n",
       "50%      0.000000e+00\n",
       "75%      1.200000e+04\n",
       "max      5.000000e+06\n",
       "Name: lead_totchg, dtype: float64"
      ]
     },
     "execution_count": 66,
     "metadata": {},
     "output_type": "execute_result"
    }
   ],
   "source": [
    "nrd_new['lead_totchg'].describe()"
   ]
  },
  {
   "cell_type": "code",
   "execution_count": 67,
   "metadata": {
    "collapsed": false
   },
   "outputs": [
    {
     "name": "stderr",
     "output_type": "stream",
     "text": [
      "C:\\Users\\binh\\Anaconda3\\lib\\site-packages\\numpy\\lib\\function_base.py:4116: RuntimeWarning: Invalid value encountered in percentile\n",
      "  interpolation=interpolation)\n"
     ]
    },
    {
     "data": {
      "text/plain": [
       "count    1.184552e+07\n",
       "mean     4.179953e+04\n",
       "std      7.314894e+04\n",
       "min      0.000000e+00\n",
       "25%               NaN\n",
       "50%               NaN\n",
       "75%               NaN\n",
       "max      5.000000e+06\n",
       "Name: totchg, dtype: float64"
      ]
     },
     "execution_count": 67,
     "metadata": {},
     "output_type": "execute_result"
    }
   ],
   "source": [
    "nrd_new['totchg'].describe()"
   ]
  },
  {
   "cell_type": "markdown",
   "metadata": {},
   "source": [
    "## Data exploratory analysis "
   ]
  },
  {
   "cell_type": "code",
   "execution_count": 25,
   "metadata": {
    "collapsed": false
   },
   "outputs": [
    {
     "data": {
      "text/plain": [
       "<seaborn.axisgrid.FacetGrid at 0x22c42c11240>"
      ]
     },
     "execution_count": 25,
     "metadata": {},
     "output_type": "execute_result"
    },
    {
     "data": {
      "image/png": "[encoded data removed]",
      "text/plain": [
       "<matplotlib.figure.Figure at 0x22c42c0d898>"
      ]
     },
     "metadata": {},
     "output_type": "display_data"
    }
   ],
   "source": [
    "import seaborn as sns\n",
    "\n",
    "sns.set_style(\"white\")\n",
    "sns.lmplot(\"age\", \"lead_totchg\", data=nrd_new, order=2)"
   ]
  },
  {
   "cell_type": "code",
   "execution_count": 26,
   "metadata": {
    "collapsed": true
   },
   "outputs": [],
   "source": [
    "## drop outliers 1% highest values\n",
    "nrd_new = nrd_new[nrd_new['lead_totchg'] < 330913]"
   ]
  },
  {
   "cell_type": "code",
   "execution_count": 27,
   "metadata": {
    "collapsed": false
   },
   "outputs": [
    {
     "data": {
      "text/plain": [
       "count    1.181097e+07\n",
       "mean     1.300489e+04\n",
       "std      3.212376e+04\n",
       "min      0.000000e+00\n",
       "25%      0.000000e+00\n",
       "50%      0.000000e+00\n",
       "75%      1.169100e+04\n",
       "max      3.309090e+05\n",
       "Name: lead_totchg, dtype: float64"
      ]
     },
     "execution_count": 27,
     "metadata": {},
     "output_type": "execute_result"
    }
   ],
   "source": [
    "## in order to solve the negative value prediction in linear model, we use log(charge) as a variable \n",
    "nrd_new['lead_totchg'].describe()"
   ]
  },
  {
   "cell_type": "code",
   "execution_count": 28,
   "metadata": {
    "collapsed": false
   },
   "outputs": [
    {
     "name": "stderr",
     "output_type": "stream",
     "text": [
      "C:\\Users\\binh\\Anaconda3\\lib\\site-packages\\numpy\\lib\\function_base.py:4116: RuntimeWarning: Invalid value encountered in percentile\n",
      "  interpolation=interpolation)\n"
     ]
    },
    {
     "data": {
      "text/plain": [
       "count    1.180935e+07\n",
       "mean     4.150811e+04\n",
       "std      7.191981e+04\n",
       "min      0.000000e+00\n",
       "25%               NaN\n",
       "50%               NaN\n",
       "75%               NaN\n",
       "max      5.000000e+06\n",
       "Name: totchg, dtype: float64"
      ]
     },
     "execution_count": 28,
     "metadata": {},
     "output_type": "execute_result"
    }
   ],
   "source": [
    "nrd_new['totchg'].describe()"
   ]
  },
  {
   "cell_type": "code",
   "execution_count": null,
   "metadata": {
    "collapsed": false
   },
   "outputs": [
    {
     "name": "stderr",
     "output_type": "stream",
     "text": [
      "C:\\Users\\binh\\Anaconda3\\lib\\site-packages\\numpy\\lib\\function_base.py:4116: RuntimeWarning: Invalid value encountered in percentile\n",
      "  interpolation=interpolation)\n"
     ]
    },
    {
     "data": {
      "image/png": "[encoded data removed]",
      "text/plain": [
       "<matplotlib.figure.Figure at 0x22c42e49080>"
      ]
     },
     "metadata": {},
     "output_type": "display_data"
    },
    {
     "data": {
      "text/plain": [
       "<ggplot: (-9223371887587040231)>"
      ]
     },
     "execution_count": 29,
     "metadata": {},
     "output_type": "execute_result"
    }
   ],
   "source": [
    "from ggplot import *\n",
    "ggplot(nrd_new, aes(x='age', y='lead_totchg', color='admission_30')) +\\\n",
    "    geom_point() +\\\n",
    "    scale_color_brewer(type='diverging', palette=4) +\\\n",
    "    xlab(\"Age\") + ylab(\"Total future charge\") + ggtitle(\"12 month inpatient cost predictions\")"
   ]
  },
  {
   "cell_type": "code",
   "execution_count": null,
   "metadata": {
    "collapsed": true
   },
   "outputs": [],
   "source": [
    "from ggplot import *\n",
    "p = ggplot(aes(x='los', y='totchg'), data=nrd_new) \n",
    "p + geom_point() + \\\n",
    "    stat_smooth(colour=\"darkblue\") + \\\n",
    "    facet_wrap(\"female\")\n",
    "p + geom_histogram() "
   ]
  },
  {
   "cell_type": "markdown",
   "metadata": {},
   "source": [
    "### correlation plots"
   ]
  },
  {
   "cell_type": "code",
   "execution_count": null,
   "metadata": {
    "collapsed": true
   },
   "outputs": [],
   "source": [
    "import seaborn as sns\n",
    "\n",
    "kw = {'axes.edgecolor': '0', 'text.color': '0', 'ytick.color': '0', 'xtick.color': '0',\n",
    "      'ytick.major.size': 5, 'xtick.major.size': 5, 'axes.labelcolor': '0'}\n",
    "\n",
    "sns.set_style(\"whitegrid\", kw)"
   ]
  },
  {
   "cell_type": "code",
   "execution_count": null,
   "metadata": {
    "collapsed": true,
    "scrolled": true
   },
   "outputs": [],
   "source": [
    "import seaborn as sns\n",
    "import matplotlib.pyplot as plt\n",
    "sns.set(context=\"paper\", font=\"monospace\")\n",
    "\n",
    "# Load the datset of correlations between cortical brain networks\n",
    "corrmat = nrd_new.corr()\n",
    "\n",
    "# Set up the matplotlib figure\n",
    "f, ax = plt.subplots(figsize=(12, 9))\n",
    "\n",
    "# Draw the heatmap using seaborn\n",
    "sns.heatmap(corrmat, vmax=.8, square=True)\n"
   ]
  },
  {
   "cell_type": "markdown",
   "metadata": {},
   "source": [
    "## Predictions\n",
    "Since the lead_totchg is highly skewed with many zero values, we'll do two part modelling which \n",
    "- Part 1: Predict whether the lead_totchg will be 0 vs not 0\n",
    "- Part 2: Take 40% of the people with highest probability and predict the continuous lead_totchg with this number"
   ]
  },
  {
   "cell_type": "markdown",
   "metadata": {},
   "source": [
    "#### part 1"
   ]
  },
  {
   "cell_type": "code",
   "execution_count": 26,
   "metadata": {
    "collapsed": false
   },
   "outputs": [
    {
     "data": {
      "text/plain": [
       "count    1.184718e+07\n",
       "mean     3.030709e-01\n",
       "std      4.595856e-01\n",
       "min      0.000000e+00\n",
       "25%      0.000000e+00\n",
       "50%      0.000000e+00\n",
       "75%      1.000000e+00\n",
       "max      1.000000e+00\n",
       "Name: lead_chg_dummy, dtype: float64"
      ]
     },
     "execution_count": 26,
     "metadata": {},
     "output_type": "execute_result"
    }
   ],
   "source": [
    "nrd_new['lead_chg_dummy'] = nrd_new['lead_totchg'].apply(lambda x : +1 if x>0  else 0) \n",
    "nrd_new['lead_chg_dummy'].describe()"
   ]
  },
  {
   "cell_type": "code",
   "execution_count": 27,
   "metadata": {
    "collapsed": true
   },
   "outputs": [],
   "source": [
    "# logistic regression \n",
    "target = 'lead_chg_dummy'\n",
    "\n",
    "features = ['age_50', 'age_64', 'age_74','female', \n",
    "            'los_2w', 'los_4w', 'los_6w', \n",
    "            'middle','rich', \n",
    "            'medicare','medicaid', 'private', \n",
    "            'ndx_3','ndx_7','orproc', 'ad_emergency', 'elective', \n",
    "            'cm_aids', 'cm_alcohol','cm_anemdef','cm_arth','cm_bldloss','cm_chf','cm_chrnlung','cm_coag', \n",
    "            'cm_depress','cm_dm','cm_dmcx','cm_drug','cm_htn_c' , 'cm_hypothy','cm_liver','cm_lymph', \n",
    "            'cm_lytes','cm_mets','cm_neuro','cm_obese','cm_para','cm_perivasc','cm_psych','cm_pulmcirc', \n",
    "            'cm_renlfail','cm_tumor','cm_ulcer','cm_valve','cm_wghtloss',\n",
    "           ]"
   ]
  },
  {
   "cell_type": "code",
   "execution_count": 28,
   "metadata": {
    "collapsed": true
   },
   "outputs": [],
   "source": [
    "X= nrd_new[features]\n",
    "Y = nrd_new[target]\n",
    "\n",
    "# function to split the data\n",
    "XTrain, XTest, YTrain, YTest = train_test_split(X, Y, test_size=0.1, random_state=42)"
   ]
  },
  {
   "cell_type": "code",
   "execution_count": 29,
   "metadata": {
    "collapsed": true
   },
   "outputs": [],
   "source": [
    "# imputation\n",
    "def imp (XTrain, YTrain, XTest, YTest):\n",
    "    imp = Imputer(missing_values='NaN', strategy=\"mean\")\n",
    "    XTrain_Imp = imp.fit_transform(XTrain)\n",
    "    YTrain_Imp = imp.fit_transform(YTrain.reshape(-1, 1)).ravel().astype(int)   \n",
    "    XTest_Imp = imp.fit_transform(XTest)\n",
    "    YTest_Imp = imp.fit_transform(YTest.reshape(-1, 1)).ravel().astype(int)    \n",
    "    return XTrain_Imp , YTrain_Imp, XTest_Imp, YTest_Imp\n",
    "\n",
    "XTrain_Imp , YTrain_Imp, XTest_Imp, YTest_Imp = imp(XTrain, YTrain, XTest, YTest) "
   ]
  },
  {
   "cell_type": "markdown",
   "metadata": {},
   "source": [
    "### Logistic model"
   ]
  },
  {
   "cell_type": "code",
   "execution_count": 30,
   "metadata": {
    "collapsed": false
   },
   "outputs": [
    {
     "data": {
      "text/plain": [
       "LogisticRegression(C=1.0, class_weight=None, dual=False, fit_intercept=True,\n",
       "          intercept_scaling=1, max_iter=100, multi_class='ovr', n_jobs=1,\n",
       "          penalty='l2', random_state=None, solver='liblinear', tol=0.0001,\n",
       "          verbose=0, warm_start=False)"
      ]
     },
     "execution_count": 30,
     "metadata": {},
     "output_type": "execute_result"
    }
   ],
   "source": [
    "lead_chg_logistic = LogisticRegression()\n",
    "lead_chg_logistic.fit(XTrain_Imp, YTrain_Imp)"
   ]
  },
  {
   "cell_type": "code",
   "execution_count": 31,
   "metadata": {
    "collapsed": false
   },
   "outputs": [
    {
     "name": "stdout",
     "output_type": "stream",
     "text": [
      "Accuracy: 0.74199 (+/- 0.00073)\n",
      "Outpatient model accuracy score, Test data 0.722902834261\n",
      "Outpatient model accuracy score, Train data 0.723822670957\n"
     ]
    }
   ],
   "source": [
    "# k fold validation\n",
    "from sklearn.cross_validation import KFold\n",
    "from sklearn.cross_validation import cross_val_score\n",
    "\n",
    "seed = 7\n",
    "kfold = KFold(20, n_folds= 10)\n",
    "model = LogisticRegression()\n",
    "scores =  cross_validation.cross_val_score(model, XTrain_Imp , YTrain_Imp, cv=5, scoring='roc_auc')\n",
    "cross_validation\n",
    "print(\"Accuracy: %0.5f (+/- %0.5f)\" %(scores.mean(), scores.std() * 2))\n",
    "\n",
    "lead_score = lead_chg_logistic.score(XTest_Imp, YTest_Imp)\n",
    "print ('Outpatient model accuracy score, Test data %s' %lead_score)\n",
    "\n",
    "lead_score_train = lead_chg_logistic.score(XTrain_Imp, YTrain_Imp)\n",
    "print ('Outpatient model accuracy score, Train data %s' %lead_score_train)\n"
   ]
  },
  {
   "cell_type": "code",
   "execution_count": 32,
   "metadata": {
    "collapsed": true
   },
   "outputs": [],
   "source": [
    "Y_pred = lead_chg_logistic.predict_proba(XTest_Imp)[:,1]\n",
    "Y_pred_train = lead_chg_logistic.predict(XTrain_Imp)"
   ]
  },
  {
   "cell_type": "code",
   "execution_count": 33,
   "metadata": {
    "collapsed": false
   },
   "outputs": [
    {
     "name": "stdout",
     "output_type": "stream",
     "text": [
      "Train data accuracy score: 0.723822670957\n",
      "Test data accuracy score: 0.722902834261\n",
      "AUC - Area under the ROC curve: 0.7416\n"
     ]
    },
    {
     "data": {
      "text/plain": [
       "(0.72382267095748343, 0.72290283426098023, 0.74164394021707725)"
      ]
     },
     "execution_count": 33,
     "metadata": {},
     "output_type": "execute_result"
    }
   ],
   "source": [
    "def model_accuracy (model, x_train, y_train, x_test, y_test, y_predict):\n",
    "    train_score = model.score(x_train, y_train)\n",
    "    print('Train data accuracy score: %s' %train_score)\n",
    "    test_score = model.score(x_test, y_test)\n",
    "    print('Test data accuracy score: %s' %test_score) \n",
    "    roc = metrics.roc_auc_score(y_test, y_predict)\n",
    "    print('AUC - Area under the ROC curve: %.4f' %roc)\n",
    "    return train_score, test_score, roc\n",
    "  \n",
    "model_accuracy (lead_chg_logistic, XTrain_Imp, YTrain_Imp, XTest_Imp, YTest_Imp, Y_pred)"
   ]
  },
  {
   "cell_type": "code",
   "execution_count": 34,
   "metadata": {
    "collapsed": false
   },
   "outputs": [
    {
     "data": {
      "text/plain": [
       "(11847179, 62)"
      ]
     },
     "execution_count": 34,
     "metadata": {},
     "output_type": "execute_result"
    }
   ],
   "source": [
    "nrd_new.shape"
   ]
  },
  {
   "cell_type": "code",
   "execution_count": 35,
   "metadata": {
    "collapsed": false
   },
   "outputs": [
    {
     "data": {
      "text/plain": [
       "count    1.184718e+07\n",
       "mean     3.030709e-01\n",
       "std      4.595856e-01\n",
       "min      0.000000e+00\n",
       "25%      0.000000e+00\n",
       "50%      0.000000e+00\n",
       "75%      1.000000e+00\n",
       "max      1.000000e+00\n",
       "Name: lead_chg_dummy, dtype: float64"
      ]
     },
     "execution_count": 35,
     "metadata": {},
     "output_type": "execute_result"
    }
   ],
   "source": [
    "nrd_new['lead_chg_dummy'].describe()"
   ]
  },
  {
   "cell_type": "markdown",
   "metadata": {
    "collapsed": true
   },
   "source": [
    "### Implementation: \n",
    "- Implement coefficient system in Precient to calculate probability of having an inpatient visit within a year\n",
    "- With the top 40% probability we'll implement the second part model (Excel for now)\n",
    "- Realistically we'll calculate the excel file as the mean of all possible combination with the real cost..."
   ]
  },
  {
   "cell_type": "code",
   "execution_count": 36,
   "metadata": {
    "collapsed": false,
    "scrolled": true
   },
   "outputs": [
    {
     "name": "stdout",
     "output_type": "stream",
     "text": [
      "         feature      coef\n",
      "0         age_50  0.180240\n",
      "1         age_64  0.466773\n",
      "2         age_74  0.082810\n",
      "3         female -0.182461\n",
      "4         los_2w -0.273849\n",
      "5         los_4w  0.017185\n",
      "6         los_6w -0.077838\n",
      "7         middle -0.102458\n",
      "8           rich -0.184213\n",
      "9       medicare  0.594250\n",
      "10      medicaid  0.381609\n",
      "11       private -0.117391\n",
      "12         ndx_3 -0.821890\n",
      "13         ndx_7 -0.266103\n",
      "14        orproc -0.529445\n",
      "15  ad_emergency  0.330579\n",
      "16      elective  0.061389\n",
      "17       cm_aids  0.615046\n",
      "18    cm_alcohol  0.111647\n",
      "19    cm_anemdef  0.297578\n",
      "20       cm_arth  0.234419\n",
      "21    cm_bldloss -0.414515\n",
      "22        cm_chf  0.415154\n",
      "23   cm_chrnlung  0.278254\n",
      "24       cm_coag  0.052035\n",
      "25    cm_depress  0.201494\n",
      "26         cm_dm  0.240982\n",
      "27       cm_dmcx  0.293828\n",
      "28       cm_drug  0.385266\n",
      "29      cm_htn_c  0.055137\n",
      "30    cm_hypothy  0.032188\n",
      "31      cm_liver  0.316416\n",
      "32      cm_lymph  0.646666\n",
      "33      cm_lytes  0.076607\n",
      "34       cm_mets  0.746438\n",
      "35      cm_neuro  0.203331\n",
      "36      cm_obese -0.095471\n",
      "37       cm_para  0.195368\n",
      "38   cm_perivasc  0.081578\n",
      "39      cm_psych  0.243240\n",
      "40   cm_pulmcirc  0.115717\n",
      "41   cm_renlfail  0.445262\n",
      "42      cm_tumor  0.656097\n",
      "43      cm_ulcer  0.349885\n",
      "44      cm_valve  0.001228\n",
      "45   cm_wghtloss  0.150845\n",
      "Intercept [-1.11150038]\n"
     ]
    }
   ],
   "source": [
    "# print  the coefficient\n",
    "def print_coef (model, XTest):\n",
    "    logit_export = pd.DataFrame()\n",
    "    logit_export['feature'] = XTest.columns.values\n",
    "    logit_export['coef'] = model.coef_.flatten()\n",
    "    print(logit_export)\n",
    "    print('Intercept %s' %model.intercept_)\n",
    "    return \n",
    "    \n",
    "print_coef(lead_chg_logistic, XTest)"
   ]
  },
  {
   "cell_type": "code",
   "execution_count": 112,
   "metadata": {
    "collapsed": false
   },
   "outputs": [
    {
     "data": {
      "text/plain": [
       "<matplotlib.legend.Legend at 0x27a7eac76d8>"
      ]
     },
     "execution_count": 112,
     "metadata": {},
     "output_type": "execute_result"
    },
    {
     "data": {
      "image/png": "[encoded data removed]",
      "text/plain": [
       "<matplotlib.figure.Figure at 0x279d29ec208>"
      ]
     },
     "metadata": {},
     "output_type": "display_data"
    }
   ],
   "source": [
    "## plot coefficient index == not working\n",
    "plt.plot(lead_chg_logistic.coef_, 'o', label = \"Lead total charge\")\n",
    "plt.xlabel(\"Coefficient index\")\n",
    "plt.ylabel(\"Coefficient magnitude\")\n",
    "plt.hlines( 0 , 0,len(lead_chg_logistic.coef_.flatten()))\n",
    "plt.ylim(-1,1)\n",
    "plt.legend()"
   ]
  },
  {
   "cell_type": "markdown",
   "metadata": {},
   "source": [
    "###### Fomular to calculate the raw numbers"
   ]
  },
  {
   "cell_type": "code",
   "execution_count": 37,
   "metadata": {
    "collapsed": false
   },
   "outputs": [
    {
     "name": "stdout",
     "output_type": "stream",
     "text": [
      "[ 0.18023975  0.4667729   0.08280992 -0.18246101 -0.27384887  0.01718474\n",
      " -0.07783799 -0.10245809 -0.18421329  0.59424992  0.38160898 -0.11739091\n",
      " -0.82188979 -0.26610344 -0.52944493  0.33057876  0.0613887   0.6150461\n",
      "  0.11164745  0.29757788  0.23441948 -0.41451504  0.41515375  0.2782542\n",
      "  0.05203513  0.20149442  0.24098229  0.29382839  0.38526562  0.05513667\n",
      "  0.03218767  0.31641632  0.64666626  0.07660735  0.7464381   0.20333134\n",
      " -0.09547108  0.19536757  0.08157766  0.24324016  0.11571656  0.4452619\n",
      "  0.65609692  0.34988471  0.00122826  0.15084472]\n",
      "[-1.11150038]\n"
     ]
    }
   ],
   "source": [
    "incost_coef = lead_chg_logistic.coef_.flatten()\n",
    "print(incost_coef)\n",
    "\n",
    "incost_intercept = lead_chg_logistic.intercept_\n",
    "print(incost_intercept)"
   ]
  },
  {
   "cell_type": "code",
   "execution_count": 38,
   "metadata": {
    "collapsed": false
   },
   "outputs": [
    {
     "data": {
      "text/html": [
       "<div>\n",
       "<table border=\"1\" class=\"dataframe\">\n",
       "  <thead>\n",
       "    <tr style=\"text-align: right;\">\n",
       "      <th></th>\n",
       "      <th>score_calculated</th>\n",
       "      <th>score</th>\n",
       "      <th>real</th>\n",
       "    </tr>\n",
       "  </thead>\n",
       "  <tbody>\n",
       "    <tr>\n",
       "      <th>0</th>\n",
       "      <td>0.239942</td>\n",
       "      <td>0.239942</td>\n",
       "      <td>0</td>\n",
       "    </tr>\n",
       "    <tr>\n",
       "      <th>1</th>\n",
       "      <td>0.259709</td>\n",
       "      <td>0.259709</td>\n",
       "      <td>0</td>\n",
       "    </tr>\n",
       "    <tr>\n",
       "      <th>2</th>\n",
       "      <td>0.373187</td>\n",
       "      <td>0.373187</td>\n",
       "      <td>0</td>\n",
       "    </tr>\n",
       "    <tr>\n",
       "      <th>3</th>\n",
       "      <td>0.163020</td>\n",
       "      <td>0.163020</td>\n",
       "      <td>0</td>\n",
       "    </tr>\n",
       "    <tr>\n",
       "      <th>4</th>\n",
       "      <td>0.532361</td>\n",
       "      <td>0.532361</td>\n",
       "      <td>1</td>\n",
       "    </tr>\n",
       "    <tr>\n",
       "      <th>5</th>\n",
       "      <td>0.123979</td>\n",
       "      <td>0.123979</td>\n",
       "      <td>0</td>\n",
       "    </tr>\n",
       "    <tr>\n",
       "      <th>6</th>\n",
       "      <td>0.155632</td>\n",
       "      <td>0.155632</td>\n",
       "      <td>0</td>\n",
       "    </tr>\n",
       "    <tr>\n",
       "      <th>7</th>\n",
       "      <td>0.416917</td>\n",
       "      <td>0.416917</td>\n",
       "      <td>1</td>\n",
       "    </tr>\n",
       "    <tr>\n",
       "      <th>8</th>\n",
       "      <td>0.492023</td>\n",
       "      <td>0.492023</td>\n",
       "      <td>0</td>\n",
       "    </tr>\n",
       "    <tr>\n",
       "      <th>9</th>\n",
       "      <td>0.135046</td>\n",
       "      <td>0.135046</td>\n",
       "      <td>0</td>\n",
       "    </tr>\n",
       "  </tbody>\n",
       "</table>\n",
       "</div>"
      ],
      "text/plain": [
       "   score_calculated     score  real\n",
       "0          0.239942  0.239942     0\n",
       "1          0.259709  0.259709     0\n",
       "2          0.373187  0.373187     0\n",
       "3          0.163020  0.163020     0\n",
       "4          0.532361  0.532361     1\n",
       "5          0.123979  0.123979     0\n",
       "6          0.155632  0.155632     0\n",
       "7          0.416917  0.416917     1\n",
       "8          0.492023  0.492023     0\n",
       "9          0.135046  0.135046     0"
      ]
     },
     "execution_count": 38,
     "metadata": {},
     "output_type": "execute_result"
    }
   ],
   "source": [
    "## create a dataframe\n",
    "leadchg_df = pd.DataFrame()\n",
    "\n",
    "#calculate the scores\n",
    "leadchg_df['score_calculated'] = 1./(1. + np.exp(-(incost_intercept + (incost_coef * XTrain_Imp).sum(axis=1)))) \n",
    "leadchg_df['score'] = lead_chg_logistic.predict_proba(XTrain_Imp)[:,1]\n",
    "leadchg_df['real'] = YTrain_Imp\n",
    "\n",
    "leadchg_df.head(10)"
   ]
  },
  {
   "cell_type": "code",
   "execution_count": 39,
   "metadata": {
    "collapsed": false
   },
   "outputs": [
    {
     "data": {
      "text/plain": [
       "count    1.066246e+07\n",
       "mean     3.030143e-01\n",
       "std      4.595614e-01\n",
       "min      0.000000e+00\n",
       "25%      0.000000e+00\n",
       "50%      0.000000e+00\n",
       "75%      1.000000e+00\n",
       "max      1.000000e+00\n",
       "Name: real, dtype: float64"
      ]
     },
     "execution_count": 39,
     "metadata": {},
     "output_type": "execute_result"
    }
   ],
   "source": [
    "leadchg_df['real'].describe()"
   ]
  },
  {
   "cell_type": "code",
   "execution_count": 40,
   "metadata": {
    "collapsed": false
   },
   "outputs": [
    {
     "name": "stdout",
     "output_type": "stream",
     "text": [
      "Area under the curve: 0.741643940217\n"
     ]
    }
   ],
   "source": [
    "# AUC\n",
    "from sklearn.metrics import roc_auc_score\n",
    "Y_pred = lead_chg_logistic.predict_proba(XTest_Imp)[:,1]\n",
    "auc_logit= metrics.roc_auc_score(YTest_Imp, Y_pred)\n",
    "print('Area under the curve: %s' %auc_logit)"
   ]
  },
  {
   "cell_type": "code",
   "execution_count": 41,
   "metadata": {
    "collapsed": true
   },
   "outputs": [],
   "source": [
    "## step 2: Take mean - 1/2SD of the bottom values \n",
    "# define high/low threshold\n",
    "def cal_high_low(var):\n",
    "    mean = np.mean(var, axis=0)\n",
    "    std = np.std(var, axis=0)\n",
    "    high = mean + std/2\n",
    "    low = mean - std/2\n",
    "    return high, low\n",
    "\n",
    "high, low = cal_high_low(Y_pred)"
   ]
  },
  {
   "cell_type": "code",
   "execution_count": 42,
   "metadata": {
    "collapsed": false
   },
   "outputs": [
    {
     "name": "stdout",
     "output_type": "stream",
     "text": [
      "0.213437140156\n",
      "0.392698432754\n"
     ]
    }
   ],
   "source": [
    "print(low)\n",
    "print(high)"
   ]
  },
  {
   "cell_type": "code",
   "execution_count": 43,
   "metadata": {
    "collapsed": false
   },
   "outputs": [
    {
     "name": "stdout",
     "output_type": "stream",
     "text": [
      "Pred all stats: count    1.184718e+07\n",
      "mean     3.030193e-01\n",
      "std      1.793134e-01\n",
      "min      2.785603e-02\n",
      "25%      1.483188e-01\n",
      "50%      2.691135e-01\n",
      "75%      4.247623e-01\n",
      "max      9.786702e-01\n",
      "Name: Y_pred_all, dtype: float64\n"
     ]
    }
   ],
   "source": [
    "## step 3: drop rows with probability < low (by default ) \n",
    "nrd_new['Y_pred_all'] = 1./(1. + np.exp(-(incost_intercept + (incost_coef * X).sum(axis=1)))) \n",
    "print('Pred all stats: {}'.format(nrd_new['Y_pred_all'].describe()))\n",
    "nrd_high = nrd_new[nrd_new.Y_pred_all <low]"
   ]
  },
  {
   "cell_type": "code",
   "execution_count": 44,
   "metadata": {
    "collapsed": false
   },
   "outputs": [
    {
     "name": "stdout",
     "output_type": "stream",
     "text": [
      "number of row of nrd_new: 11847179\n",
      "number of row of nrd_high: 4683845\n"
     ]
    }
   ],
   "source": [
    "print ('number of row of nrd_new: {}'.format(nrd_new.shape[0]))\n",
    "print ('number of row of nrd_high: {}'.format(nrd_high.shape[0]))"
   ]
  },
  {
   "cell_type": "markdown",
   "metadata": {},
   "source": [
    "#### Predict future cost of care for the top 60% with the highest probability of having a positive future costs"
   ]
  },
  {
   "cell_type": "code",
   "execution_count": 45,
   "metadata": {
    "collapsed": true
   },
   "outputs": [],
   "source": [
    "target = 'lead_totchg'\n",
    "\n",
    "features = ['age_50', 'age_64', 'age_74','female', \n",
    "            'los_2w', 'los_4w', 'los_6w', \n",
    "            'middle','rich', \n",
    "            'medicare','medicaid', 'private', \n",
    "            'ndx_3','ndx_7','orproc', 'ad_emergency', 'elective', \n",
    "            'cm_aids', 'cm_alcohol','cm_anemdef','cm_arth','cm_bldloss','cm_chf','cm_chrnlung','cm_coag', \n",
    "            'cm_depress','cm_dm','cm_dmcx','cm_drug','cm_htn_c' , 'cm_hypothy','cm_liver','cm_lymph', \n",
    "            'cm_lytes','cm_mets','cm_neuro','cm_obese','cm_para','cm_perivasc','cm_psych','cm_pulmcirc', \n",
    "            'cm_renlfail','cm_tumor','cm_ulcer','cm_valve','cm_wghtloss'\n",
    "           ]"
   ]
  },
  {
   "cell_type": "code",
   "execution_count": 46,
   "metadata": {
    "collapsed": true
   },
   "outputs": [],
   "source": [
    "X= nrd_high[features]\n",
    "Y = nrd_high[target]\n",
    "\n",
    "# function to split the data\n",
    "XTrain, XTest, YTrain, YTest = train_test_split(X, Y, test_size=0.1, random_state=42)"
   ]
  },
  {
   "cell_type": "code",
   "execution_count": 47,
   "metadata": {
    "collapsed": true
   },
   "outputs": [],
   "source": [
    "# imputation\n",
    "def imp (XTrain, YTrain, XTest, YTest):\n",
    "    imp = Imputer(missing_values='NaN', strategy=\"mean\")\n",
    "    XTrain_Imp = imp.fit_transform(XTrain)\n",
    "    YTrain_Imp = imp.fit_transform(YTrain.reshape(-1, 1)).ravel().astype(int)   \n",
    "    XTest_Imp = imp.fit_transform(XTest)\n",
    "    YTest_Imp = imp.fit_transform(YTest.reshape(-1, 1)).ravel().astype(int)    \n",
    "    return XTrain_Imp , YTrain_Imp, XTest_Imp, YTest_Imp\n",
    "\n",
    "XTrain_Imp , YTrain_Imp, XTest_Imp, YTest_Imp = imp(XTrain, YTrain, XTest, YTest) "
   ]
  },
  {
   "cell_type": "markdown",
   "metadata": {},
   "source": [
    "#### Linear model\n",
    "- Just for illustration, won't work in reality because linear model sometimes predict negative values\n"
   ]
  },
  {
   "cell_type": "code",
   "execution_count": 48,
   "metadata": {
    "collapsed": false
   },
   "outputs": [
    {
     "data": {
      "text/plain": [
       "LinearRegression(copy_X=True, fit_intercept=True, n_jobs=1, normalize=False)"
      ]
     },
     "execution_count": 48,
     "metadata": {},
     "output_type": "execute_result"
    }
   ],
   "source": [
    "leadchg_linear = LinearRegression()\n",
    "leadchg_linear.fit(XTrain_Imp, YTrain_Imp)"
   ]
  },
  {
   "cell_type": "code",
   "execution_count": 49,
   "metadata": {
    "collapsed": false
   },
   "outputs": [
    {
     "name": "stdout",
     "output_type": "stream",
     "text": [
      "Train data accuracy score (R2): 0.0197174883983\n",
      "Test data accuracy score (R2): 0.018330186089\n",
      "Linear model RMSE: 27679.8895976672\n",
      "Linear model R2: 0.018330186088959866\n"
     ]
    }
   ],
   "source": [
    "## Model accuracy\n",
    "from sklearn.metrics import mean_squared_error\n",
    "y_pred = leadchg_linear.predict(XTest_Imp)\n",
    "y_pred_train = leadchg_linear.predict(XTrain_Imp)\n",
    "\n",
    "def model_accuracy (model, x_train, y_train, x_test, y_test, y_predict):\n",
    "    train_score = model.score(x_train, y_train)\n",
    "    print('Train data accuracy score (R2): %s' %train_score)\n",
    "    test_score = model.score(x_test, y_test)\n",
    "    print('Test data accuracy score (R2): %s' %test_score) \n",
    "    return train_score, test_score\n",
    "\n",
    "model_accuracy (leadchg_linear, XTrain_Imp, YTrain_Imp, XTest_Imp, YTest_Imp, y_pred)\n",
    "\n",
    "from sklearn.metrics import r2_score\n",
    "print(\"Linear model RMSE: {}\".format(np.sqrt(mean_squared_error(YTest_Imp, y_pred))))\n",
    "print(\"Linear model R2: {}\".format(r2_score(YTest_Imp, y_pred)))"
   ]
  },
  {
   "cell_type": "code",
   "execution_count": 50,
   "metadata": {
    "collapsed": true
   },
   "outputs": [],
   "source": [
    "#### Random Forest Regression\n",
    "from sklearn.ensemble import RandomForestRegressor\n",
    "leadchg_rf = RandomForestRegressor()\n",
    "leadchg_rf = leadchg_rf.fit(XTrain_Imp, YTrain_Imp)"
   ]
  },
  {
   "cell_type": "code",
   "execution_count": 51,
   "metadata": {
    "collapsed": false
   },
   "outputs": [
    {
     "name": "stdout",
     "output_type": "stream",
     "text": [
      "Train data accuracy score (R2): 0.108667273816\n",
      "Test data accuracy score (R2): -0.0353395683852\n"
     ]
    },
    {
     "data": {
      "text/html": [
       "<div>\n",
       "<table border=\"1\" class=\"dataframe\">\n",
       "  <thead>\n",
       "    <tr style=\"text-align: right;\">\n",
       "      <th></th>\n",
       "      <th>Feature</th>\n",
       "      <th>Importance</th>\n",
       "    </tr>\n",
       "  </thead>\n",
       "  <tbody>\n",
       "    <tr>\n",
       "      <th>8</th>\n",
       "      <td>rich</td>\n",
       "      <td>0.065326</td>\n",
       "    </tr>\n",
       "    <tr>\n",
       "      <th>0</th>\n",
       "      <td>age_50</td>\n",
       "      <td>0.059061</td>\n",
       "    </tr>\n",
       "    <tr>\n",
       "      <th>7</th>\n",
       "      <td>middle</td>\n",
       "      <td>0.058323</td>\n",
       "    </tr>\n",
       "    <tr>\n",
       "      <th>29</th>\n",
       "      <td>cm_htn_c</td>\n",
       "      <td>0.057875</td>\n",
       "    </tr>\n",
       "    <tr>\n",
       "      <th>11</th>\n",
       "      <td>private</td>\n",
       "      <td>0.051194</td>\n",
       "    </tr>\n",
       "    <tr>\n",
       "      <th>3</th>\n",
       "      <td>female</td>\n",
       "      <td>0.050551</td>\n",
       "    </tr>\n",
       "    <tr>\n",
       "      <th>36</th>\n",
       "      <td>cm_obese</td>\n",
       "      <td>0.047772</td>\n",
       "    </tr>\n",
       "    <tr>\n",
       "      <th>16</th>\n",
       "      <td>elective</td>\n",
       "      <td>0.040409</td>\n",
       "    </tr>\n",
       "    <tr>\n",
       "      <th>30</th>\n",
       "      <td>cm_hypothy</td>\n",
       "      <td>0.040095</td>\n",
       "    </tr>\n",
       "    <tr>\n",
       "      <th>13</th>\n",
       "      <td>ndx_7</td>\n",
       "      <td>0.038518</td>\n",
       "    </tr>\n",
       "    <tr>\n",
       "      <th>33</th>\n",
       "      <td>cm_lytes</td>\n",
       "      <td>0.035075</td>\n",
       "    </tr>\n",
       "    <tr>\n",
       "      <th>26</th>\n",
       "      <td>cm_dm</td>\n",
       "      <td>0.031914</td>\n",
       "    </tr>\n",
       "    <tr>\n",
       "      <th>15</th>\n",
       "      <td>ad_emergency</td>\n",
       "      <td>0.027752</td>\n",
       "    </tr>\n",
       "    <tr>\n",
       "      <th>24</th>\n",
       "      <td>cm_coag</td>\n",
       "      <td>0.024572</td>\n",
       "    </tr>\n",
       "    <tr>\n",
       "      <th>14</th>\n",
       "      <td>orproc</td>\n",
       "      <td>0.023968</td>\n",
       "    </tr>\n",
       "    <tr>\n",
       "      <th>19</th>\n",
       "      <td>cm_anemdef</td>\n",
       "      <td>0.023152</td>\n",
       "    </tr>\n",
       "    <tr>\n",
       "      <th>25</th>\n",
       "      <td>cm_depress</td>\n",
       "      <td>0.021326</td>\n",
       "    </tr>\n",
       "    <tr>\n",
       "      <th>23</th>\n",
       "      <td>cm_chrnlung</td>\n",
       "      <td>0.020618</td>\n",
       "    </tr>\n",
       "    <tr>\n",
       "      <th>21</th>\n",
       "      <td>cm_bldloss</td>\n",
       "      <td>0.019836</td>\n",
       "    </tr>\n",
       "    <tr>\n",
       "      <th>10</th>\n",
       "      <td>medicaid</td>\n",
       "      <td>0.018623</td>\n",
       "    </tr>\n",
       "    <tr>\n",
       "      <th>12</th>\n",
       "      <td>ndx_3</td>\n",
       "      <td>0.018513</td>\n",
       "    </tr>\n",
       "    <tr>\n",
       "      <th>4</th>\n",
       "      <td>los_2w</td>\n",
       "      <td>0.017906</td>\n",
       "    </tr>\n",
       "    <tr>\n",
       "      <th>44</th>\n",
       "      <td>cm_valve</td>\n",
       "      <td>0.017323</td>\n",
       "    </tr>\n",
       "    <tr>\n",
       "      <th>5</th>\n",
       "      <td>los_4w</td>\n",
       "      <td>0.015627</td>\n",
       "    </tr>\n",
       "    <tr>\n",
       "      <th>9</th>\n",
       "      <td>medicare</td>\n",
       "      <td>0.015182</td>\n",
       "    </tr>\n",
       "    <tr>\n",
       "      <th>35</th>\n",
       "      <td>cm_neuro</td>\n",
       "      <td>0.013943</td>\n",
       "    </tr>\n",
       "    <tr>\n",
       "      <th>1</th>\n",
       "      <td>age_64</td>\n",
       "      <td>0.012772</td>\n",
       "    </tr>\n",
       "    <tr>\n",
       "      <th>38</th>\n",
       "      <td>cm_perivasc</td>\n",
       "      <td>0.012537</td>\n",
       "    </tr>\n",
       "    <tr>\n",
       "      <th>2</th>\n",
       "      <td>age_74</td>\n",
       "      <td>0.011947</td>\n",
       "    </tr>\n",
       "    <tr>\n",
       "      <th>18</th>\n",
       "      <td>cm_alcohol</td>\n",
       "      <td>0.011470</td>\n",
       "    </tr>\n",
       "    <tr>\n",
       "      <th>45</th>\n",
       "      <td>cm_wghtloss</td>\n",
       "      <td>0.011371</td>\n",
       "    </tr>\n",
       "    <tr>\n",
       "      <th>40</th>\n",
       "      <td>cm_pulmcirc</td>\n",
       "      <td>0.010168</td>\n",
       "    </tr>\n",
       "    <tr>\n",
       "      <th>6</th>\n",
       "      <td>los_6w</td>\n",
       "      <td>0.009852</td>\n",
       "    </tr>\n",
       "    <tr>\n",
       "      <th>39</th>\n",
       "      <td>cm_psych</td>\n",
       "      <td>0.009451</td>\n",
       "    </tr>\n",
       "    <tr>\n",
       "      <th>37</th>\n",
       "      <td>cm_para</td>\n",
       "      <td>0.009142</td>\n",
       "    </tr>\n",
       "    <tr>\n",
       "      <th>20</th>\n",
       "      <td>cm_arth</td>\n",
       "      <td>0.007809</td>\n",
       "    </tr>\n",
       "    <tr>\n",
       "      <th>41</th>\n",
       "      <td>cm_renlfail</td>\n",
       "      <td>0.007486</td>\n",
       "    </tr>\n",
       "    <tr>\n",
       "      <th>31</th>\n",
       "      <td>cm_liver</td>\n",
       "      <td>0.007322</td>\n",
       "    </tr>\n",
       "    <tr>\n",
       "      <th>27</th>\n",
       "      <td>cm_dmcx</td>\n",
       "      <td>0.006179</td>\n",
       "    </tr>\n",
       "    <tr>\n",
       "      <th>22</th>\n",
       "      <td>cm_chf</td>\n",
       "      <td>0.006014</td>\n",
       "    </tr>\n",
       "    <tr>\n",
       "      <th>28</th>\n",
       "      <td>cm_drug</td>\n",
       "      <td>0.003571</td>\n",
       "    </tr>\n",
       "    <tr>\n",
       "      <th>42</th>\n",
       "      <td>cm_tumor</td>\n",
       "      <td>0.003195</td>\n",
       "    </tr>\n",
       "    <tr>\n",
       "      <th>34</th>\n",
       "      <td>cm_mets</td>\n",
       "      <td>0.002551</td>\n",
       "    </tr>\n",
       "    <tr>\n",
       "      <th>32</th>\n",
       "      <td>cm_lymph</td>\n",
       "      <td>0.001826</td>\n",
       "    </tr>\n",
       "    <tr>\n",
       "      <th>17</th>\n",
       "      <td>cm_aids</td>\n",
       "      <td>0.000615</td>\n",
       "    </tr>\n",
       "    <tr>\n",
       "      <th>43</th>\n",
       "      <td>cm_ulcer</td>\n",
       "      <td>0.000269</td>\n",
       "    </tr>\n",
       "  </tbody>\n",
       "</table>\n",
       "</div>"
      ],
      "text/plain": [
       "         Feature  Importance\n",
       "8           rich    0.065326\n",
       "0         age_50    0.059061\n",
       "7         middle    0.058323\n",
       "29      cm_htn_c    0.057875\n",
       "11       private    0.051194\n",
       "3         female    0.050551\n",
       "36      cm_obese    0.047772\n",
       "16      elective    0.040409\n",
       "30    cm_hypothy    0.040095\n",
       "13         ndx_7    0.038518\n",
       "33      cm_lytes    0.035075\n",
       "26         cm_dm    0.031914\n",
       "15  ad_emergency    0.027752\n",
       "24       cm_coag    0.024572\n",
       "14        orproc    0.023968\n",
       "19    cm_anemdef    0.023152\n",
       "25    cm_depress    0.021326\n",
       "23   cm_chrnlung    0.020618\n",
       "21    cm_bldloss    0.019836\n",
       "10      medicaid    0.018623\n",
       "12         ndx_3    0.018513\n",
       "4         los_2w    0.017906\n",
       "44      cm_valve    0.017323\n",
       "5         los_4w    0.015627\n",
       "9       medicare    0.015182\n",
       "35      cm_neuro    0.013943\n",
       "1         age_64    0.012772\n",
       "38   cm_perivasc    0.012537\n",
       "2         age_74    0.011947\n",
       "18    cm_alcohol    0.011470\n",
       "45   cm_wghtloss    0.011371\n",
       "40   cm_pulmcirc    0.010168\n",
       "6         los_6w    0.009852\n",
       "39      cm_psych    0.009451\n",
       "37       cm_para    0.009142\n",
       "20       cm_arth    0.007809\n",
       "41   cm_renlfail    0.007486\n",
       "31      cm_liver    0.007322\n",
       "27       cm_dmcx    0.006179\n",
       "22        cm_chf    0.006014\n",
       "28       cm_drug    0.003571\n",
       "42      cm_tumor    0.003195\n",
       "34       cm_mets    0.002551\n",
       "32      cm_lymph    0.001826\n",
       "17       cm_aids    0.000615\n",
       "43      cm_ulcer    0.000269"
      ]
     },
     "execution_count": 51,
     "metadata": {},
     "output_type": "execute_result"
    }
   ],
   "source": [
    "Y_pred = leadchg_rf.predict(XTest_Imp)\n",
    "\n",
    "#model accuracy\n",
    "model_accuracy (leadchg_rf, XTrain_Imp, YTrain_Imp, XTest_Imp, YTest_Imp, Y_pred)\n",
    "\n",
    "# Build a forest and compute the feature importances\n",
    "def forest_importances (model, features):\n",
    "    importances = model.feature_importances_\n",
    "    indices = np.argsort(importances)[::-1]\n",
    "\n",
    "    FeatureRanking = pd.DataFrame(features, columns=['Feature'])\n",
    "    FeatureRanking['Importance'] = importances\n",
    "    FeatureRanking = FeatureRanking.loc[indices]\n",
    "    return FeatureRanking\n",
    "\n",
    "forest_importances(leadchg_rf, features)"
   ]
  },
  {
   "cell_type": "markdown",
   "metadata": {},
   "source": [
    "### boosting model \n",
    "- randomforestregressor is not working well in this case. Good R2 for training data, but bad R2 for testing data\n",
    "- gradientboosting is working better in this case"
   ]
  },
  {
   "cell_type": "code",
   "execution_count": 52,
   "metadata": {
    "collapsed": true
   },
   "outputs": [],
   "source": [
    "### boosting model \n",
    "from sklearn.ensemble import GradientBoostingRegressor\n",
    "from sklearn.ensemble.partial_dependence import plot_partial_dependence\n",
    "gradientboost = GradientBoostingRegressor().fit(XTrain_Imp, YTrain_Imp)\n",
    "\n",
    "gradientboost_pred = gradientboost.predict(XTest_Imp)\n",
    "gradientboost_pred_train = gradientboost.predict(XTrain_Imp)"
   ]
  },
  {
   "cell_type": "code",
   "execution_count": 53,
   "metadata": {
    "collapsed": false
   },
   "outputs": [
    {
     "name": "stdout",
     "output_type": "stream",
     "text": [
      "Linear model RMSE: 27646.06775941023\n",
      "Linear model R2 - test data: 0.020727709604713818\n",
      "Linear model R2 - train data : 0.023266811017071953\n"
     ]
    }
   ],
   "source": [
    "# mean squared errors \n",
    "from sklearn.metrics import mean_squared_error\n",
    "from sklearn.metrics import r2_score\n",
    "\n",
    "print(\"Linear model RMSE: {}\".format(np.sqrt(mean_squared_error(YTest_Imp, gradientboost_pred))))\n",
    "print(\"Linear model R2 - test data: {}\".format(r2_score(YTest_Imp, gradientboost_pred)))\n",
    "print(\"Linear model R2 - train data : {}\".format(r2_score(YTrain_Imp, gradientboost_pred_train)))"
   ]
  },
  {
   "cell_type": "markdown",
   "metadata": {},
   "source": [
    "### Neural networks -- "
   ]
  },
  {
   "cell_type": "code",
   "execution_count": 54,
   "metadata": {
    "collapsed": false
   },
   "outputs": [
    {
     "data": {
      "text/plain": [
       "<matplotlib.text.Text at 0x135ae3e3e48>"
      ]
     },
     "execution_count": 54,
     "metadata": {},
     "output_type": "execute_result"
    },
    {
     "data": {
      "image/png": "[encoded data removed]",
      "text/plain": [
       "<matplotlib.figure.Figure at 0x135ae39af60>"
      ]
     },
     "metadata": {},
     "output_type": "display_data"
    }
   ],
   "source": [
    "# the hyperbolic tangent activation function and the rectified linear activation function\n",
    "line = np.linspace(-3,3,100)\n",
    "plt.plot(line, np.tanh(line), label = \"tanh\")\n",
    "plt.plot(line, np.maximum(line,0), label = \"relu\")\n",
    "plt.legend(loc=\"best\")\n",
    "plt.xlabel(\"x\")\n",
    "plt.ylabel(\"relu(x), tanh(x)\")"
   ]
  },
  {
   "cell_type": "markdown",
   "metadata": {},
   "source": [
    "## readmission model\n",
    "- the ROC AUC statistics is not very high. We're wondering whether it is because of our feature selection or because of the tricky nature of the prediction*\n",
    "- We'll do the same prediction with the current total costs"
   ]
  },
  {
   "cell_type": "code",
   "execution_count": 55,
   "metadata": {
    "collapsed": true
   },
   "outputs": [],
   "source": [
    "target = 'new_30_admission'\n",
    "\n",
    "features = ['age_50', 'age_64', 'age_74','female', \n",
    "            'los_2w', 'los_4w', 'los_6w', \n",
    "            'middle','rich', \n",
    "            'medicare','medicaid', 'private', \n",
    "            'ndx_3','ndx_7','orproc', 'ad_emergency', 'elective', \n",
    "            'cm_aids', 'cm_alcohol','cm_anemdef','cm_arth','cm_bldloss','cm_chf','cm_chrnlung','cm_coag', \n",
    "            'cm_depress','cm_dm','cm_dmcx','cm_drug','cm_htn_c' , 'cm_hypothy','cm_liver','cm_lymph', \n",
    "            'cm_lytes','cm_mets','cm_neuro','cm_obese','cm_para','cm_perivasc','cm_psych','cm_pulmcirc', \n",
    "            'cm_renlfail','cm_tumor','cm_ulcer','cm_valve','cm_wghtloss'\n",
    "           ]"
   ]
  },
  {
   "cell_type": "code",
   "execution_count": 56,
   "metadata": {
    "collapsed": false
   },
   "outputs": [
    {
     "name": "stderr",
     "output_type": "stream",
     "text": [
      "C:\\Users\\binh\\Anaconda3\\lib\\site-packages\\numpy\\lib\\function_base.py:4116: RuntimeWarning: Invalid value encountered in percentile\n",
      "  interpolation=interpolation)\n"
     ]
    }
   ],
   "source": [
    "nrd_new['new_30_admission'].describe()\n",
    "X = nrd_new[features]\n",
    "Y = nrd_new[target]"
   ]
  },
  {
   "cell_type": "code",
   "execution_count": 57,
   "metadata": {
    "collapsed": false
   },
   "outputs": [
    {
     "data": {
      "text/plain": [
       "LogisticRegression(C=1.0, class_weight=None, dual=False, fit_intercept=True,\n",
       "          intercept_scaling=1, max_iter=100, multi_class='ovr', n_jobs=1,\n",
       "          penalty='l2', random_state=None, solver='liblinear', tol=0.0001,\n",
       "          verbose=0, warm_start=False)"
      ]
     },
     "execution_count": 57,
     "metadata": {},
     "output_type": "execute_result"
    }
   ],
   "source": [
    "# function to split the data\n",
    "XTrain, XTest, YTrain, YTest = train_test_split(X, Y, test_size=0.1, random_state=42)\n",
    "XTrain_Imp , YTrain_Imp, XTest_Imp, YTest_Imp = imp(XTrain, YTrain, XTest, YTest) \n",
    "\n",
    "## run logistic regression\n",
    "readmission_logistic = LogisticRegression()\n",
    "readmission_logistic.fit(XTrain_Imp, YTrain_Imp)"
   ]
  },
  {
   "cell_type": "code",
   "execution_count": 58,
   "metadata": {
    "collapsed": false
   },
   "outputs": [
    {
     "name": "stdout",
     "output_type": "stream",
     "text": [
      "Area under the AUC curve: 0.7132\n"
     ]
    }
   ],
   "source": [
    "Y_pred = readmission_logistic.predict_proba(XTest_Imp)[:,1]\n",
    "readmission_auc = metrics.roc_auc_score(YTest_Imp, Y_pred)\n",
    "print('Area under the AUC curve: %0.4f' %readmission_auc)"
   ]
  },
  {
   "cell_type": "markdown",
   "metadata": {},
   "source": [
    "### Neural networks"
   ]
  },
  {
   "cell_type": "code",
   "execution_count": 59,
   "metadata": {
    "collapsed": false
   },
   "outputs": [
    {
     "data": {
      "text/plain": [
       "'Note: The default solver ‘adam’ works pretty well on relatively large datasets (with thousands of training samples or more)\\nin terms of both training time and validation score. For small datasets, however, ‘lbfgs’ can converge faster and perform better.'"
      ]
     },
     "execution_count": 59,
     "metadata": {},
     "output_type": "execute_result"
    }
   ],
   "source": [
    "## tuning neural networks\n",
    "from sklearn.neural_network import MLPClassifier\n",
    "\n",
    "mpl= MLPClassifier()\n",
    "mpl.fit(XTrain_Imp, YTrain_Imp)\n",
    "'''Note: The default solver ‘adam’ works pretty well on relatively large datasets (with thousands of training samples or more)\n",
    "in terms of both training time and validation score. For small datasets, however, ‘lbfgs’ can converge faster and perform better.'''"
   ]
  },
  {
   "cell_type": "code",
   "execution_count": 97,
   "metadata": {
    "collapsed": false
   },
   "outputs": [
    {
     "name": "stdout",
     "output_type": "stream",
     "text": [
      "Area under the AUC curve neural network: 0.7277\n"
     ]
    }
   ],
   "source": [
    "y_nn_pred = mpl.predict_proba(XTest_Imp)[:,1]\n",
    "nn_roc =  metrics.roc_auc_score(YTest_Imp, y_nn_pred)\n",
    "print('Area under the AUC curve neural network: %0.4f' %nn_roc)"
   ]
  },
  {
   "cell_type": "code",
   "execution_count": 99,
   "metadata": {
    "collapsed": false
   },
   "outputs": [
    {
     "data": {
      "text/plain": [
       "MLPClassifier(activation='relu', alpha=0.0001, batch_size='auto', beta_1=0.9,\n",
       "       beta_2=0.999, early_stopping=False, epsilon=1e-08,\n",
       "       hidden_layer_sizes=[10, 10], learning_rate='constant',\n",
       "       learning_rate_init=0.001, max_iter=200, momentum=0.9,\n",
       "       nesterovs_momentum=True, power_t=0.5, random_state=None,\n",
       "       shuffle=True, solver='adam', tol=0.0001, validation_fraction=0.1,\n",
       "       verbose=False, warm_start=False)"
      ]
     },
     "execution_count": 99,
     "metadata": {},
     "output_type": "execute_result"
    }
   ],
   "source": [
    "### more customize neural networks \n",
    "## change the hidden layer sizes\n",
    "mpl2= MLPClassifier(hidden_layer_sizes=[10,10])\n",
    "mpl2.fit(XTrain_Imp, YTrain_Imp)"
   ]
  },
  {
   "cell_type": "code",
   "execution_count": 100,
   "metadata": {
    "collapsed": false
   },
   "outputs": [
    {
     "name": "stdout",
     "output_type": "stream",
     "text": [
      "Area under the AUC curve neural networks -customized hidden layer sizes: 0.7264\n"
     ]
    }
   ],
   "source": [
    "y_nn_pred2 = mpl2.predict_proba(XTest_Imp)[:,1]\n",
    "nn_roc2 =  metrics.roc_auc_score(YTest_Imp, y_nn_pred2)\n",
    "print('Area under the AUC curve neural networks -customized hidden layer sizes: %0.4f' %nn_roc2)"
   ]
  },
  {
   "cell_type": "code",
   "execution_count": 102,
   "metadata": {
    "collapsed": false
   },
   "outputs": [
    {
     "name": "stdout",
     "output_type": "stream",
     "text": [
      "gradient boost classification AUC: 0.7223968171241316\n"
     ]
    }
   ],
   "source": [
    "### last method: boosting classifier \n",
    "from sklearn.ensemble import GradientBoostingClassifier\n",
    "gradientboost = GradientBoostingClassifier (n_estimators=200).fit(XTrain_Imp, YTrain_Imp)\n",
    "\n",
    "gradientboost_pred = gradientboost.predict_proba(XTest_Imp)[:,1]\n",
    "# area under the curve\n",
    "auc_gradientboost  =  metrics.roc_auc_score(YTest_Imp, gradientboost_pred)\n",
    "print('gradient boost classification AUC: {}'.format(auc_gradientboost))\n"
   ]
  },
  {
   "cell_type": "markdown",
   "metadata": {},
   "source": [
    "###  gridsearch"
   ]
  },
  {
   "cell_type": "code",
   "execution_count": 77,
   "metadata": {
    "collapsed": false
   },
   "outputs": [
    {
     "name": "stdout",
     "output_type": "stream",
     "text": [
      "Lasso best parameters {'alpha': 1.0000000000000001e-05}\n",
      "Lasso best scores 0.459712323017\n",
      "0.459712323017 {'alpha': 1.0000000000000001e-05}\n",
      "0.459712323017 {'alpha': 1.7433288221999873e-05}\n",
      "0.459712323016 {'alpha': 3.0391953823131949e-05}\n",
      "0.459712323014 {'alpha': 5.2983169062837125e-05}\n",
      "0.459712323011 {'alpha': 9.2367085718738658e-05}\n",
      "0.459712323007 {'alpha': 0.00016102620275609391}\n",
      "0.459712322998 {'alpha': 0.00028072162039411759}\n",
      "0.459712322982 {'alpha': 0.00048939009184774938}\n",
      "0.459712322959 {'alpha': 0.00085316785241728145}\n",
      "0.459712322914 {'alpha': 0.0014873521072935117}\n",
      "0.459712322811 {'alpha': 0.0025929437974046669}\n",
      "0.459712322704 {'alpha': 0.0045203536563602452}\n",
      "0.459712322467 {'alpha': 0.0078804628156699131}\n",
      "0.459712321936 {'alpha': 0.013738237958832637}\n",
      "0.459712321343 {'alpha': 0.023950266199874861}\n",
      "0.459712320072 {'alpha': 0.041753189365604043}\n",
      "0.459712317206 {'alpha': 0.072789538439831533}\n",
      "0.459712313872 {'alpha': 0.12689610031679235}\n",
      "0.459712306574 {'alpha': 0.22122162910704501}\n",
      "0.459712288587 {'alpha': 0.38566204211634725}\n",
      "0.459712266801 {'alpha': 0.67233575364993348}\n",
      "0.459712212288 {'alpha': 1.1721022975334818}\n",
      "0.459712093347 {'alpha': 2.0433597178569438}\n",
      "0.459711807091 {'alpha': 3.5622478902624439}\n",
      "0.459711078688 {'alpha': 6.2101694189156165}\n",
      "0.459709107391 {'alpha': 10.826367338740541}\n",
      "0.45970351923 {'alpha': 18.873918221350994}\n",
      "0.459687238273 {'alpha': 32.903445623126707}\n",
      "0.459638982055 {'alpha': 57.361525104486816}\n",
      "0.459496169436 {'alpha': 100.0}\n"
     ]
    },
    {
     "name": "stderr",
     "output_type": "stream",
     "text": [
      "C:\\Users\\binh\\Anaconda3\\lib\\site-packages\\sklearn\\model_selection\\_search.py:667: DeprecationWarning: The grid_scores_ attribute was deprecated in version 0.18 in favor of the more elaborate cv_results_ attribute. The grid_scores_ attribute will not be available from 0.20\n",
      "  DeprecationWarning)\n"
     ]
    }
   ],
   "source": [
    "from sklearn.model_selection import GridSearchCV\n",
    "\n",
    "alphas = np.logspace(-5, 2, 30, endpoint=True, base=10.0, dtype=None)\n",
    "\n",
    "best_score= 0\n",
    "for n_estimators in [10, 100, 150, 200, 300]\n",
    "    for max_depth in [2,3,4]   "
   ]
  },
  {
   "cell_type": "code",
   "execution_count": 119,
   "metadata": {
    "collapsed": false
   },
   "outputs": [
    {
     "name": "stdout",
     "output_type": "stream",
     "text": [
      "         feature          coef\n",
      "0         age_50  -2328.969718\n",
      "1         age_64   4233.088181\n",
      "2         age_74   5131.423813\n",
      "3         female  -3527.680821\n",
      "4            los   5574.849196\n",
      "5         middle   2436.102830\n",
      "6           rich   5440.906657\n",
      "7       medicare  -1508.900666\n",
      "8       medicaid  -2944.343780\n",
      "9          ndx_3 -16584.114265\n",
      "10         ndx_7 -11777.390020\n",
      "11        orproc  38096.650315\n",
      "12  ad_emergency   5849.067566\n",
      "13      elective   2760.103701\n",
      "Intercept 9850.15987104\n"
     ]
    }
   ],
   "source": [
    "## Lasso regression - l1 - variable shrinkages toward zero\n",
    "from sklearn import linear_model\n",
    "incost_lasso = linear_model.Lasso(alpha= 0.000489390)  #specify alpha here\n",
    "incost_lasso.fit(XTrain_Imp, YTrain_Imp)\n",
    "\n",
    "print_coef(incost_lasso, XTest)"
   ]
  },
  {
   "cell_type": "markdown",
   "metadata": {
    "collapsed": true
   },
   "source": [
    "### lasso gridsearch graphs"
   ]
  },
  {
   "cell_type": "code",
   "execution_count": 85,
   "metadata": {
    "collapsed": false
   },
   "outputs": [
    {
     "data": {
      "text/plain": [
       "(0.0001, 0.31622776601683794)"
      ]
     },
     "execution_count": 85,
     "metadata": {},
     "output_type": "execute_result"
    },
    {
     "data": {
      "image/png": "[encoded data removed]",
      "text/plain": [
       "<matplotlib.figure.Figure at 0x2662fe8e128>"
      ]
     },
     "metadata": {},
     "output_type": "display_data"
    }
   ],
   "source": [
    "lasso = Lasso(random_state=0)\n",
    "alphas = np.logspace(-4, -0.5, 30)\n",
    "\n",
    "scores = list()\n",
    "scores_std = list()\n",
    "\n",
    "n_folds = 3\n",
    "\n",
    "for alpha in alphas:\n",
    "    lasso.alpha = alpha\n",
    "    this_scores = cross_val_score(lasso, XTrain_Imp, YTrain_Imp, cv=n_folds, n_jobs=1)\n",
    "    scores.append(np.mean(this_scores))\n",
    "    scores_std.append(np.std(this_scores))\n",
    "\n",
    "scores, scores_std = np.array(scores), np.array(scores_std)\n",
    "\n",
    "plt.figure().set_size_inches(8, 6)\n",
    "plt.semilogx(alphas, scores)\n",
    "\n",
    "# plot error lines showing +/- std. errors of the scores\n",
    "std_error = scores_std / np.sqrt(n_folds)\n",
    "\n",
    "plt.semilogx(alphas, scores + 1/2* std_error, 'b--')\n",
    "plt.semilogx(alphas, scores - 1/2* std_error, 'b--')\n",
    "\n",
    "# alpha=0.2 controls the translucency of the fill color\n",
    "plt.fill_between(alphas, scores + std_error, scores - std_error, alpha=0.2)\n",
    "\n",
    "plt.ylabel('CV score +/- std error')\n",
    "plt.xlabel('alpha')\n",
    "plt.axhline(np.max(scores), linestyle='--', color='.5')\n",
    "plt.xlim([alphas[0], alphas[-1]])"
   ]
  },
  {
   "cell_type": "markdown",
   "metadata": {},
   "source": [
    "\n",
    "## gridsearchcv for ridge regression"
   ]
  },
  {
   "cell_type": "code",
   "execution_count": 121,
   "metadata": {
    "collapsed": false
   },
   "outputs": [
    {
     "name": "stdout",
     "output_type": "stream",
     "text": [
      " Ridge best parameters {'alpha': 57.361525104486816}\n",
      " Ridge best scores 0.441510632436\n",
      "0.441510495035 {'alpha': 1.0000000000000001e-05}\n",
      "0.441510495035 {'alpha': 1.7433288221999873e-05}\n",
      "0.441510495035 {'alpha': 3.0391953823131949e-05}\n",
      "0.441510495035 {'alpha': 5.2983169062837125e-05}\n",
      "0.441510495035 {'alpha': 9.2367085718738658e-05}\n",
      "0.441510495036 {'alpha': 0.00016102620275609391}\n",
      "0.441510495036 {'alpha': 0.00028072162039411759}\n",
      "0.441510495037 {'alpha': 0.00048939009184774938}\n",
      "0.441510495039 {'alpha': 0.00085316785241728145}\n",
      "0.441510495042 {'alpha': 0.0014873521072935117}\n",
      "0.441510495047 {'alpha': 0.0025929437974046669}\n",
      "0.441510495056 {'alpha': 0.0045203536563602452}\n",
      "0.441510495073 {'alpha': 0.0078804628156699131}\n",
      "0.4415104951 {'alpha': 0.013738237958832637}\n",
      "0.441510495149 {'alpha': 0.023950266199874861}\n",
      "0.441510495234 {'alpha': 0.041753189365604043}\n",
      "0.441510495382 {'alpha': 0.072789538439831533}\n",
      "0.44151049564 {'alpha': 0.12689610031679235}\n",
      "0.441510496089 {'alpha': 0.22122162910704501}\n",
      "0.44151049687 {'alpha': 0.38566204211634725}\n",
      "0.441510498227 {'alpha': 0.67233575364993348}\n",
      "0.441510500575 {'alpha': 1.1721022975334818}\n",
      "0.441510504619 {'alpha': 2.0433597178569438}\n",
      "0.441510511518 {'alpha': 3.5622478902624439}\n",
      "0.441510523086 {'alpha': 6.2101694189156165}\n",
      "0.441510541856 {'alpha': 10.826367338740541}\n",
      "0.441510570342 {'alpha': 18.873918221350994}\n",
      "0.441510607156 {'alpha': 32.903445623126707}\n",
      "0.441510632436 {'alpha': 57.361525104486816}\n",
      "0.441510559056 {'alpha': 100.0}\n",
      "         feature          coef\n",
      "0         age_50  -2329.727594\n",
      "1         age_64   4232.718788\n",
      "2         age_74   5131.008731\n",
      "3         female  -3527.706510\n",
      "4            los   5574.872140\n",
      "5         middle   2435.905139\n",
      "6           rich   5440.584758\n",
      "7       medicare  -1508.728434\n",
      "8       medicaid  -2944.360945\n",
      "9          ndx_3 -16582.378734\n",
      "10         ndx_7 -11776.393302\n",
      "11        orproc  38095.116205\n",
      "12  ad_emergency   5848.666442\n",
      "13      elective   2760.336686\n",
      "Intercept 9850.52347576\n"
     ]
    },
    {
     "name": "stderr",
     "output_type": "stream",
     "text": [
      "C:\\Users\\binh\\Anaconda3\\lib\\site-packages\\sklearn\\model_selection\\_search.py:667: DeprecationWarning: The grid_scores_ attribute was deprecated in version 0.18 in favor of the more elaborate cv_results_ attribute. The grid_scores_ attribute will not be available from 0.20\n",
      "  DeprecationWarning)\n"
     ]
    }
   ],
   "source": [
    "from sklearn.linear_model import Ridge\n",
    "alphas = np.logspace(-5, 2, 30, endpoint=True, base=10.0, dtype=None)\n",
    "ridge_grid = GridSearchCV(estimator=Ridge(), param_grid = dict(alpha=alphas), cv=10, scoring='r2')\n",
    "ridge_grid.fit(XTrain_Imp, YTrain_Imp) \n",
    "\n",
    "print (' Ridge best parameters %s' %ridge_grid.best_params_)\n",
    "print (' Ridge best scores %s'  %ridge_grid.best_score_ ) \n",
    "\n",
    "for params, mean_score, scores in ridge_grid.grid_scores_:\n",
    "    print (mean_score, params)    \n",
    "    \n",
    "## ridge regression - l2 - variable shrinkages\n",
    "from sklearn import linear_model\n",
    "tot_exp_ridge = linear_model.Ridge(alpha=2)\n",
    "tot_exp_ridge.fit(XTrain_Imp, YTrain_Imp)\n",
    "\n",
    "print_coef(tot_exp_ridge, XTest)"
   ]
  },
  {
   "cell_type": "markdown",
   "metadata": {},
   "source": [
    "### XGboost "
   ]
  },
  {
   "cell_type": "code",
   "execution_count": 78,
   "metadata": {
    "collapsed": false
   },
   "outputs": [
    {
     "name": "stdout",
     "output_type": "stream",
     "text": [
      "Mean squared eror: 2480574197.11\n",
      "Mean squared eror: 2480574197.11\n",
      "Parameter optimization\n",
      "Fitting 3 folds for each of 9 candidates, totalling 27 fits\n"
     ]
    },
    {
     "name": "stderr",
     "output_type": "stream",
     "text": [
      "[Parallel(n_jobs=1)]: Done  27 out of  27 | elapsed:  1.6min finished\n"
     ]
    },
    {
     "name": "stdout",
     "output_type": "stream",
     "text": [
      "Best score: 0.547207756057\n",
      "Best parameters: {'max_depth': 4, 'n_estimators': 50}\n"
     ]
    }
   ],
   "source": [
    "import xgboost as xgb\n",
    "\n",
    "kf = KFold(YTrain_Imp.shape[0], n_folds=2, shuffle=True, random_state=0)\n",
    "\n",
    "for train_index, test_index in kf:\n",
    "    xgb_model = xgb.XGBRegressor().fit(XTrain_Imp,YTrain_Imp)\n",
    "    predictions = xgb_model.predict(XTest_Imp)\n",
    "    actuals = YTest_Imp\n",
    "    print('Mean squared eror: %s' %mean_squared_error(actuals, predictions))\n",
    "\n",
    "print(\"Parameter optimization\")\n",
    "xgb_model = xgb.XGBRegressor()\n",
    "clf = GridSearchCV(xgb_model,\n",
    "                   {'max_depth': [2,4,6],\n",
    "                    'n_estimators': [50,100,200]}, verbose=1)\n",
    "\n",
    "clf.fit(XTrain_Imp,YTrain_Imp)\n",
    "print('Best score: %s' %clf.best_score_)\n",
    "print('Best parameters: %s' %clf.best_params_)"
   ]
  },
  {
   "cell_type": "markdown",
   "metadata": {},
   "source": [
    "## gradient boosting method"
   ]
  },
  {
   "cell_type": "code",
   "execution_count": 87,
   "metadata": {
    "collapsed": true
   },
   "outputs": [],
   "source": [
    "from sklearn.ensemble import GradientBoostingRegressor\n",
    "from sklearn.ensemble.partial_dependence import plot_partial_dependence\n",
    "gradientboost = GradientBoostingRegressor().fit(XTrain_Imp, YTrain_Imp)\n",
    "\n",
    "gradientboost_pred = gradientboost.predict(XTest_Imp)\n",
    "gradientboost_pred_train = gradientboost.predict(XTrain_Imp)"
   ]
  },
  {
   "cell_type": "code",
   "execution_count": 89,
   "metadata": {
    "collapsed": false
   },
   "outputs": [
    {
     "name": "stdout",
     "output_type": "stream",
     "text": [
      "Linear model RMSE: 43107.50297220956\n",
      "Linear model R2 - test data: 0.005410923757592445\n",
      "Linear model R2 - train data : 0.015450780548002085\n"
     ]
    }
   ],
   "source": [
    "# mean squared errors \n",
    "from sklearn.metrics import mean_squared_error\n",
    "from sklearn.metrics import r2_score\n",
    "\n",
    "print(\"Linear model RMSE: {}\".format(np.sqrt(mean_squared_error(YTest_Imp, gradientboost_pred))))\n",
    "print(\"Linear model R2 - test data: {}\".format(r2_score(YTest_Imp, gradientboost_pred)))\n",
    "\n",
    "print(\"Linear model R2 - train data : {}\".format(r2_score(YTrain_Imp, gradientboost_pred_train)))"
   ]
  },
  {
   "cell_type": "code",
   "execution_count": 90,
   "metadata": {
    "collapsed": false
   },
   "outputs": [
    {
     "data": {
      "text/html": [
       "<div>\n",
       "<table border=\"1\" class=\"dataframe\">\n",
       "  <thead>\n",
       "    <tr style=\"text-align: right;\">\n",
       "      <th></th>\n",
       "      <th>score</th>\n",
       "      <th>real_expenditure</th>\n",
       "    </tr>\n",
       "  </thead>\n",
       "  <tbody>\n",
       "    <tr>\n",
       "      <th>0</th>\n",
       "      <td>44486.966440</td>\n",
       "      <td>49275</td>\n",
       "    </tr>\n",
       "    <tr>\n",
       "      <th>1</th>\n",
       "      <td>45178.599344</td>\n",
       "      <td>49275</td>\n",
       "    </tr>\n",
       "    <tr>\n",
       "      <th>2</th>\n",
       "      <td>48990.567229</td>\n",
       "      <td>49275</td>\n",
       "    </tr>\n",
       "    <tr>\n",
       "      <th>3</th>\n",
       "      <td>47121.523182</td>\n",
       "      <td>49275</td>\n",
       "    </tr>\n",
       "    <tr>\n",
       "      <th>4</th>\n",
       "      <td>48199.171238</td>\n",
       "      <td>49275</td>\n",
       "    </tr>\n",
       "    <tr>\n",
       "      <th>5</th>\n",
       "      <td>47273.322403</td>\n",
       "      <td>49275</td>\n",
       "    </tr>\n",
       "    <tr>\n",
       "      <th>6</th>\n",
       "      <td>47397.795714</td>\n",
       "      <td>49275</td>\n",
       "    </tr>\n",
       "    <tr>\n",
       "      <th>7</th>\n",
       "      <td>48296.600125</td>\n",
       "      <td>9006</td>\n",
       "    </tr>\n",
       "    <tr>\n",
       "      <th>8</th>\n",
       "      <td>45283.130404</td>\n",
       "      <td>49275</td>\n",
       "    </tr>\n",
       "    <tr>\n",
       "      <th>9</th>\n",
       "      <td>48462.609367</td>\n",
       "      <td>49275</td>\n",
       "    </tr>\n",
       "    <tr>\n",
       "      <th>10</th>\n",
       "      <td>46693.334362</td>\n",
       "      <td>49275</td>\n",
       "    </tr>\n",
       "    <tr>\n",
       "      <th>11</th>\n",
       "      <td>46107.919122</td>\n",
       "      <td>49275</td>\n",
       "    </tr>\n",
       "    <tr>\n",
       "      <th>12</th>\n",
       "      <td>48376.602662</td>\n",
       "      <td>49275</td>\n",
       "    </tr>\n",
       "    <tr>\n",
       "      <th>13</th>\n",
       "      <td>45793.927805</td>\n",
       "      <td>49275</td>\n",
       "    </tr>\n",
       "    <tr>\n",
       "      <th>14</th>\n",
       "      <td>54352.680714</td>\n",
       "      <td>49275</td>\n",
       "    </tr>\n",
       "    <tr>\n",
       "      <th>15</th>\n",
       "      <td>48948.768133</td>\n",
       "      <td>49275</td>\n",
       "    </tr>\n",
       "    <tr>\n",
       "      <th>16</th>\n",
       "      <td>44941.331696</td>\n",
       "      <td>49275</td>\n",
       "    </tr>\n",
       "    <tr>\n",
       "      <th>17</th>\n",
       "      <td>47864.143224</td>\n",
       "      <td>55640</td>\n",
       "    </tr>\n",
       "    <tr>\n",
       "      <th>18</th>\n",
       "      <td>47809.556048</td>\n",
       "      <td>49275</td>\n",
       "    </tr>\n",
       "    <tr>\n",
       "      <th>19</th>\n",
       "      <td>48961.592969</td>\n",
       "      <td>49275</td>\n",
       "    </tr>\n",
       "  </tbody>\n",
       "</table>\n",
       "</div>"
      ],
      "text/plain": [
       "           score  real_expenditure\n",
       "0   44486.966440             49275\n",
       "1   45178.599344             49275\n",
       "2   48990.567229             49275\n",
       "3   47121.523182             49275\n",
       "4   48199.171238             49275\n",
       "5   47273.322403             49275\n",
       "6   47397.795714             49275\n",
       "7   48296.600125              9006\n",
       "8   45283.130404             49275\n",
       "9   48462.609367             49275\n",
       "10  46693.334362             49275\n",
       "11  46107.919122             49275\n",
       "12  48376.602662             49275\n",
       "13  45793.927805             49275\n",
       "14  54352.680714             49275\n",
       "15  48948.768133             49275\n",
       "16  44941.331696             49275\n",
       "17  47864.143224             55640\n",
       "18  47809.556048             49275\n",
       "19  48961.592969             49275"
      ]
     },
     "execution_count": 90,
     "metadata": {},
     "output_type": "execute_result"
    }
   ],
   "source": [
    "## create a dataframe\n",
    "incost_gb = pd.DataFrame()\n",
    "\n",
    "#calculate the scores\n",
    "incost_gb['score'] =  gradientboost_pred\n",
    "incost_gb['real_expenditure'] = YTest_Imp\n",
    "\n",
    "incost_gb.head(n=20)"
   ]
  },
  {
   "cell_type": "code",
   "execution_count": 91,
   "metadata": {
    "collapsed": false
   },
   "outputs": [
    {
     "data": {
      "text/plain": [
       "count     33328.000000\n",
       "mean      48194.540644\n",
       "std        3232.603662\n",
       "min       38758.030639\n",
       "25%       46278.309317\n",
       "50%       47586.349518\n",
       "75%       49194.417390\n",
       "max      117575.673871\n",
       "Name: score, dtype: float64"
      ]
     },
     "execution_count": 91,
     "metadata": {},
     "output_type": "execute_result"
    }
   ],
   "source": [
    "incost_gb['score'].describe()"
   ]
  },
  {
   "cell_type": "code",
   "execution_count": 92,
   "metadata": {
    "collapsed": false
   },
   "outputs": [
    {
     "data": {
      "text/plain": [
       "count    3.332800e+04\n",
       "mean     4.927501e+04\n",
       "std      4.322525e+04\n",
       "min      2.890000e+02\n",
       "25%      4.927500e+04\n",
       "50%      4.927500e+04\n",
       "75%      4.927500e+04\n",
       "max      3.779738e+06\n",
       "Name: real_expenditure, dtype: float64"
      ]
     },
     "execution_count": 92,
     "metadata": {},
     "output_type": "execute_result"
    }
   ],
   "source": [
    "incost_gb['real_expenditure'].describe()"
   ]
  },
  {
   "cell_type": "markdown",
   "metadata": {},
   "source": [
    "## Random forest"
   ]
  },
  {
   "cell_type": "code",
   "execution_count": 99,
   "metadata": {
    "collapsed": true
   },
   "outputs": [],
   "source": [
    "from sklearn.ensemble import RandomForestRegressor\n",
    "incost_rf = RandomForestRegressor().fit(XTrain_Imp, YTrain_Imp)"
   ]
  },
  {
   "cell_type": "code",
   "execution_count": 199,
   "metadata": {
    "collapsed": true
   },
   "outputs": [],
   "source": [
    "rf_pred = incost_rf.predict(XTest_Imp)\n",
    "rf_pred_train = incost_rf.predict(XTrain_Imp)"
   ]
  },
  {
   "cell_type": "code",
   "execution_count": 201,
   "metadata": {
    "collapsed": false
   },
   "outputs": [
    {
     "name": "stdout",
     "output_type": "stream",
     "text": [
      "Linear model RMSE: 53134.61233377713\n",
      "Linear model R2 - test data: 0.5501942917457687\n",
      "Linear model R2 - train data : 0.7245438139619853\n"
     ]
    }
   ],
   "source": [
    "# mean squared errors \n",
    "from sklearn.metrics import mean_squared_error\n",
    "from sklearn.metrics import r2_score\n",
    "\n",
    "print(\"Random forest  RMSE: {}\".format(np.sqrt(mean_squared_error(YTest_Imp, rf_pred))))\n",
    "print(\"Random forest R2 - test data: {}\".format(r2_score(YTest_Imp, gradientboost_pred)))\n",
    "print(\"Random forest R2 - train data : {}\".format(r2_score(YTrain_Imp, rf_pred_train)))"
   ]
  },
  {
   "cell_type": "code",
   "execution_count": 208,
   "metadata": {
    "collapsed": false
   },
   "outputs": [
    {
     "data": {
      "text/html": [
       "<div>\n",
       "<table border=\"1\" class=\"dataframe\">\n",
       "  <thead>\n",
       "    <tr style=\"text-align: right;\">\n",
       "      <th></th>\n",
       "      <th>score</th>\n",
       "      <th>real_expenditure</th>\n",
       "    </tr>\n",
       "  </thead>\n",
       "  <tbody>\n",
       "    <tr>\n",
       "      <th>0</th>\n",
       "      <td>60614.089913</td>\n",
       "      <td>107936</td>\n",
       "    </tr>\n",
       "    <tr>\n",
       "      <th>1</th>\n",
       "      <td>11107.048022</td>\n",
       "      <td>10226</td>\n",
       "    </tr>\n",
       "    <tr>\n",
       "      <th>2</th>\n",
       "      <td>14718.630583</td>\n",
       "      <td>12532</td>\n",
       "    </tr>\n",
       "    <tr>\n",
       "      <th>3</th>\n",
       "      <td>12998.840964</td>\n",
       "      <td>3351</td>\n",
       "    </tr>\n",
       "    <tr>\n",
       "      <th>4</th>\n",
       "      <td>11343.755933</td>\n",
       "      <td>12670</td>\n",
       "    </tr>\n",
       "    <tr>\n",
       "      <th>5</th>\n",
       "      <td>375926.171282</td>\n",
       "      <td>196588</td>\n",
       "    </tr>\n",
       "    <tr>\n",
       "      <th>6</th>\n",
       "      <td>39249.158474</td>\n",
       "      <td>28259</td>\n",
       "    </tr>\n",
       "    <tr>\n",
       "      <th>7</th>\n",
       "      <td>55951.417229</td>\n",
       "      <td>26289</td>\n",
       "    </tr>\n",
       "    <tr>\n",
       "      <th>8</th>\n",
       "      <td>34047.626935</td>\n",
       "      <td>37963</td>\n",
       "    </tr>\n",
       "    <tr>\n",
       "      <th>9</th>\n",
       "      <td>16437.199605</td>\n",
       "      <td>13731</td>\n",
       "    </tr>\n",
       "    <tr>\n",
       "      <th>10</th>\n",
       "      <td>4539.105703</td>\n",
       "      <td>2685</td>\n",
       "    </tr>\n",
       "    <tr>\n",
       "      <th>11</th>\n",
       "      <td>16437.199605</td>\n",
       "      <td>9287</td>\n",
       "    </tr>\n",
       "    <tr>\n",
       "      <th>12</th>\n",
       "      <td>23675.876481</td>\n",
       "      <td>24378</td>\n",
       "    </tr>\n",
       "    <tr>\n",
       "      <th>13</th>\n",
       "      <td>21219.768960</td>\n",
       "      <td>11472</td>\n",
       "    </tr>\n",
       "    <tr>\n",
       "      <th>14</th>\n",
       "      <td>18212.000334</td>\n",
       "      <td>8177</td>\n",
       "    </tr>\n",
       "    <tr>\n",
       "      <th>15</th>\n",
       "      <td>9802.157324</td>\n",
       "      <td>3325</td>\n",
       "    </tr>\n",
       "    <tr>\n",
       "      <th>16</th>\n",
       "      <td>31767.298993</td>\n",
       "      <td>27488</td>\n",
       "    </tr>\n",
       "    <tr>\n",
       "      <th>17</th>\n",
       "      <td>8184.381591</td>\n",
       "      <td>29574</td>\n",
       "    </tr>\n",
       "    <tr>\n",
       "      <th>18</th>\n",
       "      <td>19010.021524</td>\n",
       "      <td>14942</td>\n",
       "    </tr>\n",
       "    <tr>\n",
       "      <th>19</th>\n",
       "      <td>83981.900000</td>\n",
       "      <td>27810</td>\n",
       "    </tr>\n",
       "  </tbody>\n",
       "</table>\n",
       "</div>"
      ],
      "text/plain": [
       "            score  real_expenditure\n",
       "0    60614.089913            107936\n",
       "1    11107.048022             10226\n",
       "2    14718.630583             12532\n",
       "3    12998.840964              3351\n",
       "4    11343.755933             12670\n",
       "5   375926.171282            196588\n",
       "6    39249.158474             28259\n",
       "7    55951.417229             26289\n",
       "8    34047.626935             37963\n",
       "9    16437.199605             13731\n",
       "10    4539.105703              2685\n",
       "11   16437.199605              9287\n",
       "12   23675.876481             24378\n",
       "13   21219.768960             11472\n",
       "14   18212.000334              8177\n",
       "15    9802.157324              3325\n",
       "16   31767.298993             27488\n",
       "17    8184.381591             29574\n",
       "18   19010.021524             14942\n",
       "19   83981.900000             27810"
      ]
     },
     "execution_count": 208,
     "metadata": {},
     "output_type": "execute_result"
    }
   ],
   "source": [
    "## create a dataframe\n",
    "incost_rf = pd.DataFrame()\n",
    "\n",
    "#calculate the scores\n",
    "incost_rf['score'] =  rf_pred\n",
    "incost_rf['real_expenditure'] = YTest_Imp\n",
    "\n",
    "incost_rf.head(n=20)"
   ]
  },
  {
   "cell_type": "code",
   "execution_count": null,
   "metadata": {
    "collapsed": true
   },
   "outputs": [],
   "source": [
    "incost_rf['score'].describe()"
   ]
  },
  {
   "cell_type": "code",
   "execution_count": null,
   "metadata": {
    "collapsed": true
   },
   "outputs": [],
   "source": [
    "incost_rf['real_expenditure'].describe()"
   ]
  },
  {
   "cell_type": "markdown",
   "metadata": {},
   "source": [
    "## XGBOOST"
   ]
  },
  {
   "cell_type": "code",
   "execution_count": 98,
   "metadata": {
    "collapsed": false
   },
   "outputs": [
    {
     "name": "stdout",
     "output_type": "stream",
     "text": [
      "Best score: 0.620560735679\n",
      "Best parameters: {'min_child_weight': 1, 'max_depth': 3}\n"
     ]
    },
    {
     "name": "stderr",
     "output_type": "stream",
     "text": [
      "C:\\Users\\binh\\Anaconda3\\lib\\site-packages\\sklearn\\model_selection\\_search.py:667: DeprecationWarning: The grid_scores_ attribute was deprecated in version 0.18 in favor of the more elaborate cv_results_ attribute. The grid_scores_ attribute will not be available from 0.20\n",
      "  DeprecationWarning)\n"
     ]
    }
   ],
   "source": [
    "import xgboost as xgb\n",
    "from sklearn.model_selection import GridSearchCV\n",
    "\n",
    "cv_params = {'max_depth': [3,5,7], 'min_child_weight': [1,3,5]}\n",
    "ind_params = {'learning_rate': 0.5, 'n_estimators': 1000, 'seed':0, 'subsample': 0.8, \n",
    "             }\n",
    "xgb_incost = GridSearchCV(xgb.XGBRegressor(**ind_params), \n",
    "                            cv_params, \n",
    "                            scoring = 'r2', cv = 5, n_jobs = -1) \n",
    "\n",
    "xgb_incost.fit(XTrain_Imp, YTrain_Imp)\n",
    "\n",
    "xgb_incost.grid_scores_\n",
    "  \n",
    "print('Best score: %s' %xgb_incost.best_score_)\n",
    "print('Best parameters: %s' %xgb_incost.best_params_)\n"
   ]
  },
  {
   "cell_type": "code",
   "execution_count": 213,
   "metadata": {
    "collapsed": true
   },
   "outputs": [],
   "source": [
    "xgb_pred = xgb_incost.predict(XTest_Imp)\n",
    "xgb_pred_train = xgb_incost.predict(XTrain_Imp)"
   ]
  },
  {
   "cell_type": "code",
   "execution_count": 216,
   "metadata": {
    "collapsed": false
   },
   "outputs": [
    {
     "name": "stdout",
     "output_type": "stream",
     "text": [
      "XGBoost RMSE: 50991.23874571831\n",
      "XGBoost R2 - test data: 0.527888154077086\n",
      "XGBoost R2 - train data: 0.6040563183842405\n"
     ]
    }
   ],
   "source": [
    "## model accuracy\n",
    "print(\"XGBoost RMSE: {}\".format(np.sqrt(mean_squared_error(YTest_Imp, xgb_pred))))\n",
    "print(\"XGBoost R2 - test data: {}\".format(r2_score(YTest_Imp, xgb_pred)))\n",
    "print(\"XGBoost R2 - train data: {}\".format(r2_score(YTrain_Imp, xgb_pred_train)))"
   ]
  }
 ],
 "metadata": {
  "kernelspec": {
   "display_name": "Python 3",
   "language": "python",
   "name": "python3"
  },
  "language_info": {
   "codemirror_mode": {
    "name": "ipython",
    "version": 3
   },
   "file_extension": ".py",
   "mimetype": "text/x-python",
   "name": "python",
   "nbconvert_exporter": "python",
   "pygments_lexer": "ipython3",
   "version": "3.5.2"
  }
 },
 "nbformat": 4,
 "nbformat_minor": 1
}
